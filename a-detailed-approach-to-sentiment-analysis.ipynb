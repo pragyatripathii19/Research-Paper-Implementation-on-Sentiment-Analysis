{
 "cells": [
  {
   "cell_type": "markdown",
   "id": "33425dab",
   "metadata": {
    "papermill": {
     "duration": 0.014093,
     "end_time": "2024-10-14T14:36:33.032159",
     "exception": false,
     "start_time": "2024-10-14T14:36:33.018066",
     "status": "completed"
    },
    "tags": []
   },
   "source": [
    "# INTRODUCTION\n",
    "\n",
    "Sentiment Analyzers are a part of Natural Language Processing (NLP). NLP, simply put, is a machine learning technology that allows computers to understand human language. Chances are, you're already familiar with this technology or have even used it yourself! Smart assistants like Siri and Alexa, chatbots like ChatGPT and Gemini, and tools like Grammarly all leverage NLP.\n",
    "\n",
    "Sentiment Analysis, also referred to as opinion mining, is a specific application within NLP focused on analyzing the emotional tone of text. It aims to classify text as positive, negative, or neutral. For instance, classifying YouTube comments under a video helps creators understand what type of content resonates with their viewers. Similarly, analyzing product reviews helps companies gauge how well their products are performing in the market. As you can see, sentiment analysis holds significant importance.\n",
    "Now that you have a basic understanding of this field, let's waste no more time and dive into the project itself!\n"
   ]
  },
  {
   "cell_type": "code",
   "execution_count": 1,
   "id": "ac7ca77c",
   "metadata": {
    "_cell_guid": "b1076dfc-b9ad-4769-8c92-a6c4dae69d19",
    "_uuid": "8f2839f25d086af736a60e9eeb907d3b93b6e0e5",
    "execution": {
     "iopub.execute_input": "2024-10-14T14:36:33.060293Z",
     "iopub.status.busy": "2024-10-14T14:36:33.059846Z",
     "iopub.status.idle": "2024-10-14T14:36:35.761035Z",
     "shell.execute_reply": "2024-10-14T14:36:35.759853Z"
    },
    "papermill": {
     "duration": 2.718478,
     "end_time": "2024-10-14T14:36:35.763961",
     "exception": false,
     "start_time": "2024-10-14T14:36:33.045483",
     "status": "completed"
    },
    "tags": []
   },
   "outputs": [],
   "source": [
    "# Importing all necessary libraries\n",
    "\n",
    "#FOR ANALYSIS/CLEANING/COMPUTATION:\n",
    "import pandas as pd\n",
    "import numpy as np\n",
    "\n",
    "#FOR VISUALIZATION:\n",
    "import matplotlib.pyplot as plt\n",
    "import seaborn as sns"
   ]
  },
  {
   "cell_type": "code",
   "execution_count": 2,
   "id": "7ebe7cb7",
   "metadata": {
    "execution": {
     "iopub.execute_input": "2024-10-14T14:36:35.793726Z",
     "iopub.status.busy": "2024-10-14T14:36:35.792482Z",
     "iopub.status.idle": "2024-10-14T14:36:36.140398Z",
     "shell.execute_reply": "2024-10-14T14:36:36.138967Z"
    },
    "papermill": {
     "duration": 0.365267,
     "end_time": "2024-10-14T14:36:36.143299",
     "exception": false,
     "start_time": "2024-10-14T14:36:35.778032",
     "status": "completed"
    },
    "tags": []
   },
   "outputs": [
    {
     "data": {
      "text/html": [
       "<div>\n",
       "<style scoped>\n",
       "    .dataframe tbody tr th:only-of-type {\n",
       "        vertical-align: middle;\n",
       "    }\n",
       "\n",
       "    .dataframe tbody tr th {\n",
       "        vertical-align: top;\n",
       "    }\n",
       "\n",
       "    .dataframe thead th {\n",
       "        text-align: right;\n",
       "    }\n",
       "</style>\n",
       "<table border=\"1\" class=\"dataframe\">\n",
       "  <thead>\n",
       "    <tr style=\"text-align: right;\">\n",
       "      <th></th>\n",
       "      <th>Review</th>\n",
       "      <th>label</th>\n",
       "    </tr>\n",
       "  </thead>\n",
       "  <tbody>\n",
       "    <tr>\n",
       "      <th>0</th>\n",
       "      <td>Great music service, the audio is high quality...</td>\n",
       "      <td>POSITIVE</td>\n",
       "    </tr>\n",
       "    <tr>\n",
       "      <th>1</th>\n",
       "      <td>Please ignore previous negative rating. This a...</td>\n",
       "      <td>POSITIVE</td>\n",
       "    </tr>\n",
       "    <tr>\n",
       "      <th>2</th>\n",
       "      <td>This pop-up \"Get the best Spotify experience o...</td>\n",
       "      <td>NEGATIVE</td>\n",
       "    </tr>\n",
       "    <tr>\n",
       "      <th>3</th>\n",
       "      <td>Really buggy and terrible to use as of recently</td>\n",
       "      <td>NEGATIVE</td>\n",
       "    </tr>\n",
       "    <tr>\n",
       "      <th>4</th>\n",
       "      <td>Dear Spotify why do I get songs that I didn't ...</td>\n",
       "      <td>NEGATIVE</td>\n",
       "    </tr>\n",
       "    <tr>\n",
       "      <th>5</th>\n",
       "      <td>The player controls sometimes disappear for no...</td>\n",
       "      <td>NEGATIVE</td>\n",
       "    </tr>\n",
       "    <tr>\n",
       "      <th>6</th>\n",
       "      <td>I love the selection and the lyrics are provid...</td>\n",
       "      <td>POSITIVE</td>\n",
       "    </tr>\n",
       "    <tr>\n",
       "      <th>7</th>\n",
       "      <td>Still extremely slow when changing storage to ...</td>\n",
       "      <td>NEGATIVE</td>\n",
       "    </tr>\n",
       "    <tr>\n",
       "      <th>8</th>\n",
       "      <td>It's a great app and the best mp3 music app I ...</td>\n",
       "      <td>POSITIVE</td>\n",
       "    </tr>\n",
       "    <tr>\n",
       "      <th>9</th>\n",
       "      <td>I'm deleting this app, for the following reaso...</td>\n",
       "      <td>NEGATIVE</td>\n",
       "    </tr>\n",
       "  </tbody>\n",
       "</table>\n",
       "</div>"
      ],
      "text/plain": [
       "                                              Review     label\n",
       "0  Great music service, the audio is high quality...  POSITIVE\n",
       "1  Please ignore previous negative rating. This a...  POSITIVE\n",
       "2  This pop-up \"Get the best Spotify experience o...  NEGATIVE\n",
       "3    Really buggy and terrible to use as of recently  NEGATIVE\n",
       "4  Dear Spotify why do I get songs that I didn't ...  NEGATIVE\n",
       "5  The player controls sometimes disappear for no...  NEGATIVE\n",
       "6  I love the selection and the lyrics are provid...  POSITIVE\n",
       "7  Still extremely slow when changing storage to ...  NEGATIVE\n",
       "8  It's a great app and the best mp3 music app I ...  POSITIVE\n",
       "9  I'm deleting this app, for the following reaso...  NEGATIVE"
      ]
     },
     "execution_count": 2,
     "metadata": {},
     "output_type": "execute_result"
    }
   ],
   "source": [
    "# Loading the dataset\n",
    "file_path = '/kaggle/input/spotify-dataset/DATASET.csv'\n",
    "df = pd.read_csv(file_path) #creating a data frame which you can assume to be a excel sheet inside a code. \n",
    "df.head(10) # view the first 10 rows of the dataframe"
   ]
  },
  {
   "cell_type": "markdown",
   "id": "18213458",
   "metadata": {
    "papermill": {
     "duration": 0.013204,
     "end_time": "2024-10-14T14:36:36.170242",
     "exception": false,
     "start_time": "2024-10-14T14:36:36.157038",
     "status": "completed"
    },
    "tags": []
   },
   "source": [
    "\n",
    "# BASIC EDA\n",
    "\n",
    "EDA (Exploratory Data Analysis) is an approach used in data science and statistics to analyze and summarize the main characteristics of a dataset, i.e. to gain a well-rounded overview of a dataset."
   ]
  },
  {
   "cell_type": "code",
   "execution_count": 3,
   "id": "d9341c95",
   "metadata": {
    "execution": {
     "iopub.execute_input": "2024-10-14T14:36:36.199113Z",
     "iopub.status.busy": "2024-10-14T14:36:36.198640Z",
     "iopub.status.idle": "2024-10-14T14:36:36.240066Z",
     "shell.execute_reply": "2024-10-14T14:36:36.238350Z"
    },
    "papermill": {
     "duration": 0.059151,
     "end_time": "2024-10-14T14:36:36.242852",
     "exception": false,
     "start_time": "2024-10-14T14:36:36.183701",
     "status": "completed"
    },
    "tags": []
   },
   "outputs": [
    {
     "name": "stdout",
     "output_type": "stream",
     "text": [
      "<class 'pandas.core.frame.DataFrame'>\n",
      "RangeIndex: 52702 entries, 0 to 52701\n",
      "Data columns (total 2 columns):\n",
      " #   Column  Non-Null Count  Dtype \n",
      "---  ------  --------------  ----- \n",
      " 0   Review  52686 non-null  object\n",
      " 1   label   52702 non-null  object\n",
      "dtypes: object(2)\n",
      "memory usage: 823.6+ KB\n"
     ]
    }
   ],
   "source": [
    "df.info() #provides a summary of the data frame\n",
    "\n",
    "#understanding the output of this code:\n",
    "#Total entries we have : 52,702\n",
    "#2 columns- \"Review\" and \"label\"\n",
    "#Review column has 52,686 non-null entries i.e. 16 null entries(52,702-52,686=16)\n",
    "#hence we have 16 missing values that need to be handled.\n",
    "#label column has all non-null entries hence no missing values.\n",
    "#Dtype is object which means data is of text/mixed type"
   ]
  },
  {
   "cell_type": "code",
   "execution_count": 4,
   "id": "9b4f8bdc",
   "metadata": {
    "execution": {
     "iopub.execute_input": "2024-10-14T14:36:36.271986Z",
     "iopub.status.busy": "2024-10-14T14:36:36.271523Z",
     "iopub.status.idle": "2024-10-14T14:36:36.294062Z",
     "shell.execute_reply": "2024-10-14T14:36:36.292778Z"
    },
    "papermill": {
     "duration": 0.040229,
     "end_time": "2024-10-14T14:36:36.296773",
     "exception": false,
     "start_time": "2024-10-14T14:36:36.256544",
     "status": "completed"
    },
    "tags": []
   },
   "outputs": [
    {
     "data": {
      "text/plain": [
       "Review    16\n",
       "label      0\n",
       "dtype: int64"
      ]
     },
     "execution_count": 4,
     "metadata": {},
     "output_type": "execute_result"
    }
   ],
   "source": [
    "# Explicitly check for missing values\n",
    "df.isnull().sum()"
   ]
  },
  {
   "cell_type": "code",
   "execution_count": 5,
   "id": "6ad622ed",
   "metadata": {
    "execution": {
     "iopub.execute_input": "2024-10-14T14:36:36.326455Z",
     "iopub.status.busy": "2024-10-14T14:36:36.325532Z",
     "iopub.status.idle": "2024-10-14T14:36:36.349807Z",
     "shell.execute_reply": "2024-10-14T14:36:36.348580Z"
    },
    "papermill": {
     "duration": 0.042183,
     "end_time": "2024-10-14T14:36:36.352638",
     "exception": false,
     "start_time": "2024-10-14T14:36:36.310455",
     "status": "completed"
    },
    "tags": []
   },
   "outputs": [],
   "source": [
    "#as the missing values compromise of a small section of our dataset\n",
    "#The best approach is to just drop them.\n",
    "df = df.dropna(subset=['Review']) "
   ]
  },
  {
   "cell_type": "code",
   "execution_count": 6,
   "id": "039b0d12",
   "metadata": {
    "execution": {
     "iopub.execute_input": "2024-10-14T14:36:36.382567Z",
     "iopub.status.busy": "2024-10-14T14:36:36.381552Z",
     "iopub.status.idle": "2024-10-14T14:36:36.405847Z",
     "shell.execute_reply": "2024-10-14T14:36:36.404768Z"
    },
    "papermill": {
     "duration": 0.041972,
     "end_time": "2024-10-14T14:36:36.408449",
     "exception": false,
     "start_time": "2024-10-14T14:36:36.366477",
     "status": "completed"
    },
    "tags": []
   },
   "outputs": [
    {
     "name": "stdout",
     "output_type": "stream",
     "text": [
      "<class 'pandas.core.frame.DataFrame'>\n",
      "Index: 52686 entries, 0 to 52701\n",
      "Data columns (total 2 columns):\n",
      " #   Column  Non-Null Count  Dtype \n",
      "---  ------  --------------  ----- \n",
      " 0   Review  52686 non-null  object\n",
      " 1   label   52686 non-null  object\n",
      "dtypes: object(2)\n",
      "memory usage: 1.2+ MB\n"
     ]
    }
   ],
   "source": [
    "df.info() # the dataset is now free of missing values!"
   ]
  },
  {
   "cell_type": "code",
   "execution_count": 7,
   "id": "85b799c5",
   "metadata": {
    "execution": {
     "iopub.execute_input": "2024-10-14T14:36:36.437485Z",
     "iopub.status.busy": "2024-10-14T14:36:36.437066Z",
     "iopub.status.idle": "2024-10-14T14:36:36.454395Z",
     "shell.execute_reply": "2024-10-14T14:36:36.453261Z"
    },
    "papermill": {
     "duration": 0.034705,
     "end_time": "2024-10-14T14:36:36.456743",
     "exception": false,
     "start_time": "2024-10-14T14:36:36.422038",
     "status": "completed"
    },
    "tags": []
   },
   "outputs": [
    {
     "data": {
      "text/plain": [
       "label\n",
       "NEGATIVE    29423\n",
       "POSITIVE    23263\n",
       "Name: count, dtype: int64"
      ]
     },
     "execution_count": 7,
     "metadata": {},
     "output_type": "execute_result"
    }
   ],
   "source": [
    "df['label'].value_counts()# Check sentiment/label distribution"
   ]
  },
  {
   "cell_type": "code",
   "execution_count": 8,
   "id": "57a7b809",
   "metadata": {
    "execution": {
     "iopub.execute_input": "2024-10-14T14:36:36.487855Z",
     "iopub.status.busy": "2024-10-14T14:36:36.486670Z",
     "iopub.status.idle": "2024-10-14T14:36:36.818960Z",
     "shell.execute_reply": "2024-10-14T14:36:36.817894Z"
    },
    "papermill": {
     "duration": 0.350513,
     "end_time": "2024-10-14T14:36:36.821468",
     "exception": false,
     "start_time": "2024-10-14T14:36:36.470955",
     "status": "completed"
    },
    "tags": []
   },
   "outputs": [
    {
     "data": {
      "text/plain": [
       "<Axes: xlabel='label', ylabel='count'>"
      ]
     },
     "execution_count": 8,
     "metadata": {},
     "output_type": "execute_result"
    },
    {
     "data": {
      "image/png": "[encoded data removed]",
      "text/plain": [
       "<Figure size 640x480 with 1 Axes>"
      ]
     },
     "metadata": {},
     "output_type": "display_data"
    }
   ],
   "source": [
    "sns.countplot(x='label', data=df)  # Visualize the sentiment/label distribution"
   ]
  },
  {
   "cell_type": "markdown",
   "id": "9766b33d",
   "metadata": {
    "papermill": {
     "duration": 0.0142,
     "end_time": "2024-10-14T14:36:36.850210",
     "exception": false,
     "start_time": "2024-10-14T14:36:36.836010",
     "status": "completed"
    },
    "tags": []
   },
   "source": [
    "# TEXT PREPROCESSING \n",
    "\n",
    "Text preprocessing is a crucial step in natural language processing (NLP) and machine learning tasks. It involves transforming raw text into a clean, structured format that can be more easily and effectively be analyzed by models. \n",
    "\n",
    "Data (Text) preprocessing will have the following steps:\n",
    "\n",
    "**1. Cleaning**\n",
    "\n",
    "**2. Tokenization**\n",
    "\n",
    "**3. Stop words removal**\n",
    "\n",
    "**4. Stemming or Lemmatization**\n",
    "\n"
   ]
  },
  {
   "cell_type": "markdown",
   "id": "96d22b2a",
   "metadata": {
    "papermill": {
     "duration": 0.014262,
     "end_time": "2024-10-14T14:36:36.878908",
     "exception": false,
     "start_time": "2024-10-14T14:36:36.864646",
     "status": "completed"
    },
    "tags": []
   },
   "source": [
    "# 1. CLEANING THE DATASET\n",
    "The \"Reviews\" column of our dataset has a variety of symbols, punctuation, special character etc in it that is not of our requirement. \n",
    "Example: , : ( ) ? . \" ; ! - + = ~ %  etc are not of use.\n",
    "\n",
    "**Example**\n",
    "Entry 4:\n",
    "Dear Spotify why do I get songs that I didn't put on my playlist??? And why do we have shuffle play?\n",
    "\n",
    "Entry 283:\n",
    "I really like a sound.....hello everyone...have a nice day....Ã°Å¸ËœÅ½Ã°Å¸ËœÅ½Ã°Å¸ËœÅ½ Stay safe...always god bless...Ã°Å¸â„¢ÂÃ°Å¸â„¢ÂÃ°Å¸â„¢Â\n",
    "\n",
    "Entry 556:\n",
    "One of the best app to listen to music And personally I have listings to ads inbetween :)"
   ]
  },
  {
   "cell_type": "code",
   "execution_count": 9,
   "id": "9e3c2360",
   "metadata": {
    "execution": {
     "iopub.execute_input": "2024-10-14T14:36:36.910056Z",
     "iopub.status.busy": "2024-10-14T14:36:36.909574Z",
     "iopub.status.idle": "2024-10-14T14:36:36.915184Z",
     "shell.execute_reply": "2024-10-14T14:36:36.914007Z"
    },
    "papermill": {
     "duration": 0.024014,
     "end_time": "2024-10-14T14:36:36.917574",
     "exception": false,
     "start_time": "2024-10-14T14:36:36.893560",
     "status": "completed"
    },
    "tags": []
   },
   "outputs": [],
   "source": [
    "# For cleaning, we will need pandas for data manipulation and \n",
    "#(regex) for regular expressions (they are based on context free grammars)\n",
    "import re #regex\n"
   ]
  },
  {
   "cell_type": "code",
   "execution_count": 10,
   "id": "0a4d98e5",
   "metadata": {
    "execution": {
     "iopub.execute_input": "2024-10-14T14:36:36.948609Z",
     "iopub.status.busy": "2024-10-14T14:36:36.947606Z",
     "iopub.status.idle": "2024-10-14T14:36:36.954043Z",
     "shell.execute_reply": "2024-10-14T14:36:36.952921Z"
    },
    "papermill": {
     "duration": 0.024575,
     "end_time": "2024-10-14T14:36:36.956451",
     "exception": false,
     "start_time": "2024-10-14T14:36:36.931876",
     "status": "completed"
    },
    "tags": []
   },
   "outputs": [],
   "source": [
    "def clean_text(text):\n",
    "    text = re.sub(r'Ã[\\x80-\\xBF]+', ' ', text) \n",
    "    text = re.sub(r'[^a-zA-Z\\s]', ' ', text) \n",
    "    text = re.sub(r'\\s+', ' ', text)\n",
    "    text = text.strip()\n",
    "    return text.lower()  # Convert all to lowercase"
   ]
  },
  {
   "cell_type": "markdown",
   "id": "4f6ed30c",
   "metadata": {
    "papermill": {
     "duration": 0.014207,
     "end_time": "2024-10-14T14:36:36.985226",
     "exception": false,
     "start_time": "2024-10-14T14:36:36.971019",
     "status": "completed"
    },
    "tags": []
   },
   "source": [
    "**Understanding the clean_text function**\n",
    "\n",
    "\n",
    "**text = re.sub(r'Ã[\\x80-\\xBF]+', ' ', text):**\n",
    "Removes encoded symbols that appear as characters like Ã, Å, Ë.\n",
    "\n",
    "**text = re.sub(r'[^a-zA-Z\\s]', ' ', text):**\n",
    "\n",
    "The symbol \"^\" at the start of the square brackets means \"not\". Hence we are replacing all symbols that are not lower and upper case alphabels(a-z,A-Z) or white space(/s) with an empty string with a space.\n",
    "\n",
    "**text = re.sub(r'\\s+', ' ', text):**\n",
    "\n",
    "At last i replaced all multiple spaces with a single space to ensure readability. The strip function removes any leading or trailing whitespaces and we convert all reviews to lower case.\n"
   ]
  },
  {
   "cell_type": "code",
   "execution_count": 11,
   "id": "80645447",
   "metadata": {
    "execution": {
     "iopub.execute_input": "2024-10-14T14:36:37.016808Z",
     "iopub.status.busy": "2024-10-14T14:36:37.016257Z",
     "iopub.status.idle": "2024-10-14T14:36:38.514367Z",
     "shell.execute_reply": "2024-10-14T14:36:38.513084Z"
    },
    "papermill": {
     "duration": 1.517243,
     "end_time": "2024-10-14T14:36:38.517401",
     "exception": false,
     "start_time": "2024-10-14T14:36:37.000158",
     "status": "completed"
    },
    "tags": []
   },
   "outputs": [],
   "source": [
    "df['Review'] = df['Review'].apply(clean_text) #applying the clean_text function to Review column"
   ]
  },
  {
   "cell_type": "code",
   "execution_count": 12,
   "id": "7fa90ba5",
   "metadata": {
    "execution": {
     "iopub.execute_input": "2024-10-14T14:36:38.548336Z",
     "iopub.status.busy": "2024-10-14T14:36:38.547873Z",
     "iopub.status.idle": "2024-10-14T14:36:38.557533Z",
     "shell.execute_reply": "2024-10-14T14:36:38.555831Z"
    },
    "papermill": {
     "duration": 0.02931,
     "end_time": "2024-10-14T14:36:38.561198",
     "exception": false,
     "start_time": "2024-10-14T14:36:38.531888",
     "status": "completed"
    },
    "tags": []
   },
   "outputs": [
    {
     "name": "stdout",
     "output_type": "stream",
     "text": [
      "i really like a sound hello everyone have a nice day stay safe always god bless\n"
     ]
    }
   ],
   "source": [
    "#VIEW THE CLEANED TEXTS IN \"Review\" column again\n",
    "pd.set_option('display.max_colwidth', None) #to view text fully and so that\n",
    "#pandas doesn't truncate the text\n",
    "\n",
    "print(df.iloc[283]['Review']) #view entry 283 "
   ]
  },
  {
   "cell_type": "code",
   "execution_count": 13,
   "id": "d6c0f480",
   "metadata": {
    "execution": {
     "iopub.execute_input": "2024-10-14T14:36:38.595638Z",
     "iopub.status.busy": "2024-10-14T14:36:38.595208Z",
     "iopub.status.idle": "2024-10-14T14:36:38.601187Z",
     "shell.execute_reply": "2024-10-14T14:36:38.600193Z"
    },
    "papermill": {
     "duration": 0.027387,
     "end_time": "2024-10-14T14:36:38.605188",
     "exception": false,
     "start_time": "2024-10-14T14:36:38.577801",
     "status": "completed"
    },
    "tags": []
   },
   "outputs": [
    {
     "name": "stdout",
     "output_type": "stream",
     "text": [
      "i like this app very much but my only problem is that i think it s very stupid that you have to skip to your favorite song and also that your song that you search is shuffled with other songs\n"
     ]
    }
   ],
   "source": [
    "print(df.iloc[396]['Review'])\n",
    "#Entry 428:\n",
    "#Before cleaning:Best music streaming app ever! Ã°Å¸â€˜Å’Ã°Å¸â€˜Â\n",
    "#After cleaning:Best music streaming app ever"
   ]
  },
  {
   "cell_type": "markdown",
   "id": "4b8e72c9",
   "metadata": {
    "papermill": {
     "duration": 0.016608,
     "end_time": "2024-10-14T14:36:38.636304",
     "exception": false,
     "start_time": "2024-10-14T14:36:38.619696",
     "status": "completed"
    },
    "tags": []
   },
   "source": [
    "# 2. TOKENIZATION\n",
    "\n",
    "Tokenization is the process of breaking down a string of text into smaller units, or tokens, which essentially are meaningful words.\n",
    "\n",
    "We require an individual meaniningful entity to work upon which can only be words and not sentences.\n",
    "\n",
    "Example:\n",
    "good, great, wow etc signal a positive review.\n",
    "\n",
    "bad, lame, boring etc signal a negative review."
   ]
  },
  {
   "cell_type": "code",
   "execution_count": 14,
   "id": "eaa36632",
   "metadata": {
    "execution": {
     "iopub.execute_input": "2024-10-14T14:36:38.667020Z",
     "iopub.status.busy": "2024-10-14T14:36:38.666570Z",
     "iopub.status.idle": "2024-10-14T14:36:38.671530Z",
     "shell.execute_reply": "2024-10-14T14:36:38.670390Z"
    },
    "papermill": {
     "duration": 0.023469,
     "end_time": "2024-10-14T14:36:38.674126",
     "exception": false,
     "start_time": "2024-10-14T14:36:38.650657",
     "status": "completed"
    },
    "tags": []
   },
   "outputs": [],
   "source": [
    "#METHOD 1 : Tokenize using nltk library (faster method)\n",
    "#pip install nltk #you may not need to download it"
   ]
  },
  {
   "cell_type": "code",
   "execution_count": 15,
   "id": "c08bd6e0",
   "metadata": {
    "execution": {
     "iopub.execute_input": "2024-10-14T14:36:38.705212Z",
     "iopub.status.busy": "2024-10-14T14:36:38.704761Z",
     "iopub.status.idle": "2024-10-14T14:36:56.800988Z",
     "shell.execute_reply": "2024-10-14T14:36:56.799826Z"
    },
    "papermill": {
     "duration": 18.115082,
     "end_time": "2024-10-14T14:36:56.803720",
     "exception": false,
     "start_time": "2024-10-14T14:36:38.688638",
     "status": "completed"
    },
    "tags": []
   },
   "outputs": [
    {
     "name": "stdout",
     "output_type": "stream",
     "text": [
      "['i', 'really', 'like', 'a', 'sound', 'hello', 'everyone', 'have', 'a', 'nice', 'day', 'stay', 'safe', 'always', 'god', 'bless']\n"
     ]
    }
   ],
   "source": [
    "import nltk\n",
    "from nltk.tokenize import word_tokenize\n",
    "#nltk.download('punkt') : kaggle has this pre-downloaded so no need to download.\n",
    "\n",
    "def tokenize_text(text):\n",
    "    tokens = word_tokenize(text)  \n",
    "    return tokens  \n",
    "\n",
    "df['Tokens'] = df['Review'].apply(tokenize_text)\n",
    "\n",
    "print(df.iloc[283]['Tokens']) "
   ]
  },
  {
   "cell_type": "code",
   "execution_count": 16,
   "id": "03045268",
   "metadata": {
    "execution": {
     "iopub.execute_input": "2024-10-14T14:36:56.835170Z",
     "iopub.status.busy": "2024-10-14T14:36:56.834615Z",
     "iopub.status.idle": "2024-10-14T14:36:56.840534Z",
     "shell.execute_reply": "2024-10-14T14:36:56.839211Z"
    },
    "papermill": {
     "duration": 0.024916,
     "end_time": "2024-10-14T14:36:56.843271",
     "exception": false,
     "start_time": "2024-10-14T14:36:56.818355",
     "status": "completed"
    },
    "tags": []
   },
   "outputs": [],
   "source": [
    "#METHOD 2: Tokenize using split function (works fine, less efficient)\n",
    "#def tokenize(text):\n",
    "    #return text.split() #splits texts based on white spaces\n",
    "#df['Tokens'] = df['Review'].apply(tokenize)\n",
    "#print(df.iloc[283]['Tokens'])"
   ]
  },
  {
   "cell_type": "code",
   "execution_count": 17,
   "id": "12978649",
   "metadata": {
    "execution": {
     "iopub.execute_input": "2024-10-14T14:36:56.874807Z",
     "iopub.status.busy": "2024-10-14T14:36:56.874320Z",
     "iopub.status.idle": "2024-10-14T14:36:56.895734Z",
     "shell.execute_reply": "2024-10-14T14:36:56.894462Z"
    },
    "papermill": {
     "duration": 0.040783,
     "end_time": "2024-10-14T14:36:56.898654",
     "exception": false,
     "start_time": "2024-10-14T14:36:56.857871",
     "status": "completed"
    },
    "tags": []
   },
   "outputs": [
    {
     "data": {
      "text/html": [
       "<div>\n",
       "<style scoped>\n",
       "    .dataframe tbody tr th:only-of-type {\n",
       "        vertical-align: middle;\n",
       "    }\n",
       "\n",
       "    .dataframe tbody tr th {\n",
       "        vertical-align: top;\n",
       "    }\n",
       "\n",
       "    .dataframe thead th {\n",
       "        text-align: right;\n",
       "    }\n",
       "</style>\n",
       "<table border=\"1\" class=\"dataframe\">\n",
       "  <thead>\n",
       "    <tr style=\"text-align: right;\">\n",
       "      <th></th>\n",
       "      <th>Review</th>\n",
       "      <th>label</th>\n",
       "      <th>Tokens</th>\n",
       "    </tr>\n",
       "  </thead>\n",
       "  <tbody>\n",
       "    <tr>\n",
       "      <th>0</th>\n",
       "      <td>great music service the audio is high quality and the app is easy to use also very quick and friendly support</td>\n",
       "      <td>POSITIVE</td>\n",
       "      <td>[great, music, service, the, audio, is, high, quality, and, the, app, is, easy, to, use, also, very, quick, and, friendly, support]</td>\n",
       "    </tr>\n",
       "    <tr>\n",
       "      <th>1</th>\n",
       "      <td>please ignore previous negative rating this app is super great i give it five stars</td>\n",
       "      <td>POSITIVE</td>\n",
       "      <td>[please, ignore, previous, negative, rating, this, app, is, super, great, i, give, it, five, stars]</td>\n",
       "    </tr>\n",
       "    <tr>\n",
       "      <th>2</th>\n",
       "      <td>this pop up get the best spotify experience on android is too annoying please let s get rid of this</td>\n",
       "      <td>NEGATIVE</td>\n",
       "      <td>[this, pop, up, get, the, best, spotify, experience, on, android, is, too, annoying, please, let, s, get, rid, of, this]</td>\n",
       "    </tr>\n",
       "    <tr>\n",
       "      <th>3</th>\n",
       "      <td>really buggy and terrible to use as of recently</td>\n",
       "      <td>NEGATIVE</td>\n",
       "      <td>[really, buggy, and, terrible, to, use, as, of, recently]</td>\n",
       "    </tr>\n",
       "    <tr>\n",
       "      <th>4</th>\n",
       "      <td>dear spotify why do i get songs that i didn t put on my playlist and why do we have shuffle play</td>\n",
       "      <td>NEGATIVE</td>\n",
       "      <td>[dear, spotify, why, do, i, get, songs, that, i, didn, t, put, on, my, playlist, and, why, do, we, have, shuffle, play]</td>\n",
       "    </tr>\n",
       "    <tr>\n",
       "      <th>5</th>\n",
       "      <td>the player controls sometimes disappear for no reason app restart forgets what i was playing but fixes the issue</td>\n",
       "      <td>NEGATIVE</td>\n",
       "      <td>[the, player, controls, sometimes, disappear, for, no, reason, app, restart, forgets, what, i, was, playing, but, fixes, the, issue]</td>\n",
       "    </tr>\n",
       "    <tr>\n",
       "      <th>6</th>\n",
       "      <td>i love the selection and the lyrics are provided with the song you re listening to</td>\n",
       "      <td>POSITIVE</td>\n",
       "      <td>[i, love, the, selection, and, the, lyrics, are, provided, with, the, song, you, re, listening, to]</td>\n",
       "    </tr>\n",
       "    <tr>\n",
       "      <th>7</th>\n",
       "      <td>still extremely slow when changing storage to external sd card i m convinced this is done on purpose spotify knows of this issue and has done nothing to solve it over time i have changed sd cards each being faster in read write speeds all samsung brand and please add don t like song so it will never appear again in my searches or playlists</td>\n",
       "      <td>NEGATIVE</td>\n",
       "      <td>[still, extremely, slow, when, changing, storage, to, external, sd, card, i, m, convinced, this, is, done, on, purpose, spotify, knows, of, this, issue, and, has, done, nothing, to, solve, it, over, time, i, have, changed, sd, cards, each, being, faster, in, read, write, speeds, all, samsung, brand, and, please, add, don, t, like, song, so, it, will, never, appear, again, in, my, searches, or, playlists]</td>\n",
       "    </tr>\n",
       "    <tr>\n",
       "      <th>8</th>\n",
       "      <td>it s a great app and the best mp music app i have ever used but there is one problem that why can t we play some songs or find some songs despite this the app is wonderful i recommend it it s just the best</td>\n",
       "      <td>POSITIVE</td>\n",
       "      <td>[it, s, a, great, app, and, the, best, mp, music, app, i, have, ever, used, but, there, is, one, problem, that, why, can, t, we, play, some, songs, or, find, some, songs, despite, this, the, app, is, wonderful, i, recommend, it, it, s, just, the, best]</td>\n",
       "    </tr>\n",
       "    <tr>\n",
       "      <th>9</th>\n",
       "      <td>i m deleting this app for the following reasons this app now has a failing business model whether streaming services like it or not the consumer doesn t want to pay for music they can t fully own and ads successively upon logging in before a single song is too much closed the app during ad number and i m more patient than most if those are the only ways you can profit you ve already peaked all that s left is your decline</td>\n",
       "      <td>NEGATIVE</td>\n",
       "      <td>[i, m, deleting, this, app, for, the, following, reasons, this, app, now, has, a, failing, business, model, whether, streaming, services, like, it, or, not, the, consumer, doesn, t, want, to, pay, for, music, they, can, t, fully, own, and, ads, successively, upon, logging, in, before, a, single, song, is, too, much, closed, the, app, during, ad, number, and, i, m, more, patient, than, most, if, those, are, the, only, ways, you, can, profit, you, ve, already, peaked, all, that, s, left, is, your, decline]</td>\n",
       "    </tr>\n",
       "  </tbody>\n",
       "</table>\n",
       "</div>"
      ],
      "text/plain": [
       "                                                                                                                                                                                                                                                                                                                                                                                                                                     Review  \\\n",
       "0                                                                                                                                                                                                                                                                                                                             great music service the audio is high quality and the app is easy to use also very quick and friendly support   \n",
       "1                                                                                                                                                                                                                                                                                                                                                       please ignore previous negative rating this app is super great i give it five stars   \n",
       "2                                                                                                                                                                                                                                                                                                                                       this pop up get the best spotify experience on android is too annoying please let s get rid of this   \n",
       "3                                                                                                                                                                                                                                                                                                                                                                                           really buggy and terrible to use as of recently   \n",
       "4                                                                                                                                                                                                                                                                                                                                          dear spotify why do i get songs that i didn t put on my playlist and why do we have shuffle play   \n",
       "5                                                                                                                                                                                                                                                                                                                          the player controls sometimes disappear for no reason app restart forgets what i was playing but fixes the issue   \n",
       "6                                                                                                                                                                                                                                                                                                                                                        i love the selection and the lyrics are provided with the song you re listening to   \n",
       "7                                                                                     still extremely slow when changing storage to external sd card i m convinced this is done on purpose spotify knows of this issue and has done nothing to solve it over time i have changed sd cards each being faster in read write speeds all samsung brand and please add don t like song so it will never appear again in my searches or playlists   \n",
       "8                                                                                                                                                                                                                             it s a great app and the best mp music app i have ever used but there is one problem that why can t we play some songs or find some songs despite this the app is wonderful i recommend it it s just the best   \n",
       "9  i m deleting this app for the following reasons this app now has a failing business model whether streaming services like it or not the consumer doesn t want to pay for music they can t fully own and ads successively upon logging in before a single song is too much closed the app during ad number and i m more patient than most if those are the only ways you can profit you ve already peaked all that s left is your decline   \n",
       "\n",
       "      label  \\\n",
       "0  POSITIVE   \n",
       "1  POSITIVE   \n",
       "2  NEGATIVE   \n",
       "3  NEGATIVE   \n",
       "4  NEGATIVE   \n",
       "5  NEGATIVE   \n",
       "6  POSITIVE   \n",
       "7  NEGATIVE   \n",
       "8  POSITIVE   \n",
       "9  NEGATIVE   \n",
       "\n",
       "                                                                                                                                                                                                                                                                                                                                                                                                                                                                                                                          Tokens  \n",
       "0                                                                                                                                                                                                                                                                                                                                                                                            [great, music, service, the, audio, is, high, quality, and, the, app, is, easy, to, use, also, very, quick, and, friendly, support]  \n",
       "1                                                                                                                                                                                                                                                                                                                                                                                                                            [please, ignore, previous, negative, rating, this, app, is, super, great, i, give, it, five, stars]  \n",
       "2                                                                                                                                                                                                                                                                                                                                                                                                       [this, pop, up, get, the, best, spotify, experience, on, android, is, too, annoying, please, let, s, get, rid, of, this]  \n",
       "3                                                                                                                                                                                                                                                                                                                                                                                                                                                                      [really, buggy, and, terrible, to, use, as, of, recently]  \n",
       "4                                                                                                                                                                                                                                                                                                                                                                                                        [dear, spotify, why, do, i, get, songs, that, i, didn, t, put, on, my, playlist, and, why, do, we, have, shuffle, play]  \n",
       "5                                                                                                                                                                                                                                                                                                                                                                                           [the, player, controls, sometimes, disappear, for, no, reason, app, restart, forgets, what, i, was, playing, but, fixes, the, issue]  \n",
       "6                                                                                                                                                                                                                                                                                                                                                                                                                            [i, love, the, selection, and, the, lyrics, are, provided, with, the, song, you, re, listening, to]  \n",
       "7                                                                                                        [still, extremely, slow, when, changing, storage, to, external, sd, card, i, m, convinced, this, is, done, on, purpose, spotify, knows, of, this, issue, and, has, done, nothing, to, solve, it, over, time, i, have, changed, sd, cards, each, being, faster, in, read, write, speeds, all, samsung, brand, and, please, add, don, t, like, song, so, it, will, never, appear, again, in, my, searches, or, playlists]  \n",
       "8                                                                                                                                                                                                                                                                   [it, s, a, great, app, and, the, best, mp, music, app, i, have, ever, used, but, there, is, one, problem, that, why, can, t, we, play, some, songs, or, find, some, songs, despite, this, the, app, is, wonderful, i, recommend, it, it, s, just, the, best]  \n",
       "9  [i, m, deleting, this, app, for, the, following, reasons, this, app, now, has, a, failing, business, model, whether, streaming, services, like, it, or, not, the, consumer, doesn, t, want, to, pay, for, music, they, can, t, fully, own, and, ads, successively, upon, logging, in, before, a, single, song, is, too, much, closed, the, app, during, ad, number, and, i, m, more, patient, than, most, if, those, are, the, only, ways, you, can, profit, you, ve, already, peaked, all, that, s, left, is, your, decline]  "
      ]
     },
     "execution_count": 17,
     "metadata": {},
     "output_type": "execute_result"
    }
   ],
   "source": [
    "df.head(10) #view your dataset to gain a better understanding"
   ]
  },
  {
   "cell_type": "markdown",
   "id": "d0ff53f4",
   "metadata": {
    "papermill": {
     "duration": 0.017567,
     "end_time": "2024-10-14T14:36:56.931608",
     "exception": false,
     "start_time": "2024-10-14T14:36:56.914041",
     "status": "completed"
    },
    "tags": []
   },
   "source": [
    "# 3. REMOVING STOPWORDS\n",
    "\n",
    "Stop words are words that have less meaningful value/contribution to our analysis. Words like i, he, she, they, went, want, for, in etc hold little to no value and hence are better off removed.\n",
    "\n",
    "You can also create a list of custom stop words specific to your domain. For example words like music, app, playlist etc are common stop words for this dataset.\n",
    "\n"
   ]
  },
  {
   "cell_type": "code",
   "execution_count": 18,
   "id": "d6f3cf94",
   "metadata": {
    "execution": {
     "iopub.execute_input": "2024-10-14T14:36:56.964726Z",
     "iopub.status.busy": "2024-10-14T14:36:56.964251Z",
     "iopub.status.idle": "2024-10-14T14:36:56.970839Z",
     "shell.execute_reply": "2024-10-14T14:36:56.969757Z"
    },
    "papermill": {
     "duration": 0.026106,
     "end_time": "2024-10-14T14:36:56.973208",
     "exception": false,
     "start_time": "2024-10-14T14:36:56.947102",
     "status": "completed"
    },
    "tags": []
   },
   "outputs": [],
   "source": [
    "#nltk.download('stopwords'): : kaggle has this pre-downloaded so no need to download.\n",
    "from nltk.corpus import stopwords\n",
    "def remove_stopwords(tokens):\n",
    "    stop_words = set(stopwords.words('english'))  # Get the set of English stopwords\n",
    "    if custom_stopwords:\n",
    "        stop_words.update(custom_stopwords)\n",
    "    return [word for word in tokens if word.lower() not in stop_words]  # Filter out stopwords"
   ]
  },
  {
   "cell_type": "code",
   "execution_count": 19,
   "id": "0c7e933d",
   "metadata": {
    "execution": {
     "iopub.execute_input": "2024-10-14T14:36:57.005935Z",
     "iopub.status.busy": "2024-10-14T14:36:57.005440Z",
     "iopub.status.idle": "2024-10-14T14:37:06.029233Z",
     "shell.execute_reply": "2024-10-14T14:37:06.028067Z"
    },
    "papermill": {
     "duration": 9.043608,
     "end_time": "2024-10-14T14:37:06.032232",
     "exception": false,
     "start_time": "2024-10-14T14:36:56.988624",
     "status": "completed"
    },
    "tags": []
   },
   "outputs": [],
   "source": [
    "#my list of custom_stop_words\n",
    "custom_stopwords = {'app', 'music','play', 'spotify', 'song', 'songs', 'listen', 'playing','get', 'playlist'}\n",
    "df['Filtered_Tokens'] = df['Tokens'].apply(remove_stopwords)\n",
    "# Remove stopwords from the Tokens column"
   ]
  },
  {
   "cell_type": "code",
   "execution_count": 20,
   "id": "c261c711",
   "metadata": {
    "execution": {
     "iopub.execute_input": "2024-10-14T14:37:06.065139Z",
     "iopub.status.busy": "2024-10-14T14:37:06.064657Z",
     "iopub.status.idle": "2024-10-14T14:37:06.092599Z",
     "shell.execute_reply": "2024-10-14T14:37:06.091400Z"
    },
    "papermill": {
     "duration": 0.047608,
     "end_time": "2024-10-14T14:37:06.095314",
     "exception": false,
     "start_time": "2024-10-14T14:37:06.047706",
     "status": "completed"
    },
    "tags": []
   },
   "outputs": [
    {
     "data": {
      "text/html": [
       "<div>\n",
       "<style scoped>\n",
       "    .dataframe tbody tr th:only-of-type {\n",
       "        vertical-align: middle;\n",
       "    }\n",
       "\n",
       "    .dataframe tbody tr th {\n",
       "        vertical-align: top;\n",
       "    }\n",
       "\n",
       "    .dataframe thead th {\n",
       "        text-align: right;\n",
       "    }\n",
       "</style>\n",
       "<table border=\"1\" class=\"dataframe\">\n",
       "  <thead>\n",
       "    <tr style=\"text-align: right;\">\n",
       "      <th></th>\n",
       "      <th>Review</th>\n",
       "      <th>label</th>\n",
       "      <th>Tokens</th>\n",
       "      <th>Filtered_Tokens</th>\n",
       "    </tr>\n",
       "  </thead>\n",
       "  <tbody>\n",
       "    <tr>\n",
       "      <th>0</th>\n",
       "      <td>great music service the audio is high quality and the app is easy to use also very quick and friendly support</td>\n",
       "      <td>POSITIVE</td>\n",
       "      <td>[great, music, service, the, audio, is, high, quality, and, the, app, is, easy, to, use, also, very, quick, and, friendly, support]</td>\n",
       "      <td>[great, service, audio, high, quality, easy, use, also, quick, friendly, support]</td>\n",
       "    </tr>\n",
       "    <tr>\n",
       "      <th>1</th>\n",
       "      <td>please ignore previous negative rating this app is super great i give it five stars</td>\n",
       "      <td>POSITIVE</td>\n",
       "      <td>[please, ignore, previous, negative, rating, this, app, is, super, great, i, give, it, five, stars]</td>\n",
       "      <td>[please, ignore, previous, negative, rating, super, great, give, five, stars]</td>\n",
       "    </tr>\n",
       "    <tr>\n",
       "      <th>2</th>\n",
       "      <td>this pop up get the best spotify experience on android is too annoying please let s get rid of this</td>\n",
       "      <td>NEGATIVE</td>\n",
       "      <td>[this, pop, up, get, the, best, spotify, experience, on, android, is, too, annoying, please, let, s, get, rid, of, this]</td>\n",
       "      <td>[pop, best, experience, android, annoying, please, let, rid]</td>\n",
       "    </tr>\n",
       "    <tr>\n",
       "      <th>3</th>\n",
       "      <td>really buggy and terrible to use as of recently</td>\n",
       "      <td>NEGATIVE</td>\n",
       "      <td>[really, buggy, and, terrible, to, use, as, of, recently]</td>\n",
       "      <td>[really, buggy, terrible, use, recently]</td>\n",
       "    </tr>\n",
       "    <tr>\n",
       "      <th>4</th>\n",
       "      <td>dear spotify why do i get songs that i didn t put on my playlist and why do we have shuffle play</td>\n",
       "      <td>NEGATIVE</td>\n",
       "      <td>[dear, spotify, why, do, i, get, songs, that, i, didn, t, put, on, my, playlist, and, why, do, we, have, shuffle, play]</td>\n",
       "      <td>[dear, put, shuffle]</td>\n",
       "    </tr>\n",
       "    <tr>\n",
       "      <th>5</th>\n",
       "      <td>the player controls sometimes disappear for no reason app restart forgets what i was playing but fixes the issue</td>\n",
       "      <td>NEGATIVE</td>\n",
       "      <td>[the, player, controls, sometimes, disappear, for, no, reason, app, restart, forgets, what, i, was, playing, but, fixes, the, issue]</td>\n",
       "      <td>[player, controls, sometimes, disappear, reason, restart, forgets, fixes, issue]</td>\n",
       "    </tr>\n",
       "    <tr>\n",
       "      <th>6</th>\n",
       "      <td>i love the selection and the lyrics are provided with the song you re listening to</td>\n",
       "      <td>POSITIVE</td>\n",
       "      <td>[i, love, the, selection, and, the, lyrics, are, provided, with, the, song, you, re, listening, to]</td>\n",
       "      <td>[love, selection, lyrics, provided, listening]</td>\n",
       "    </tr>\n",
       "    <tr>\n",
       "      <th>7</th>\n",
       "      <td>still extremely slow when changing storage to external sd card i m convinced this is done on purpose spotify knows of this issue and has done nothing to solve it over time i have changed sd cards each being faster in read write speeds all samsung brand and please add don t like song so it will never appear again in my searches or playlists</td>\n",
       "      <td>NEGATIVE</td>\n",
       "      <td>[still, extremely, slow, when, changing, storage, to, external, sd, card, i, m, convinced, this, is, done, on, purpose, spotify, knows, of, this, issue, and, has, done, nothing, to, solve, it, over, time, i, have, changed, sd, cards, each, being, faster, in, read, write, speeds, all, samsung, brand, and, please, add, don, t, like, song, so, it, will, never, appear, again, in, my, searches, or, playlists]</td>\n",
       "      <td>[still, extremely, slow, changing, storage, external, sd, card, convinced, done, purpose, knows, issue, done, nothing, solve, time, changed, sd, cards, faster, read, write, speeds, samsung, brand, please, add, like, never, appear, searches, playlists]</td>\n",
       "    </tr>\n",
       "    <tr>\n",
       "      <th>8</th>\n",
       "      <td>it s a great app and the best mp music app i have ever used but there is one problem that why can t we play some songs or find some songs despite this the app is wonderful i recommend it it s just the best</td>\n",
       "      <td>POSITIVE</td>\n",
       "      <td>[it, s, a, great, app, and, the, best, mp, music, app, i, have, ever, used, but, there, is, one, problem, that, why, can, t, we, play, some, songs, or, find, some, songs, despite, this, the, app, is, wonderful, i, recommend, it, it, s, just, the, best]</td>\n",
       "      <td>[great, best, mp, ever, used, one, problem, find, despite, wonderful, recommend, best]</td>\n",
       "    </tr>\n",
       "    <tr>\n",
       "      <th>9</th>\n",
       "      <td>i m deleting this app for the following reasons this app now has a failing business model whether streaming services like it or not the consumer doesn t want to pay for music they can t fully own and ads successively upon logging in before a single song is too much closed the app during ad number and i m more patient than most if those are the only ways you can profit you ve already peaked all that s left is your decline</td>\n",
       "      <td>NEGATIVE</td>\n",
       "      <td>[i, m, deleting, this, app, for, the, following, reasons, this, app, now, has, a, failing, business, model, whether, streaming, services, like, it, or, not, the, consumer, doesn, t, want, to, pay, for, music, they, can, t, fully, own, and, ads, successively, upon, logging, in, before, a, single, song, is, too, much, closed, the, app, during, ad, number, and, i, m, more, patient, than, most, if, those, are, the, only, ways, you, can, profit, you, ve, already, peaked, all, that, s, left, is, your, decline]</td>\n",
       "      <td>[deleting, following, reasons, failing, business, model, whether, streaming, services, like, consumer, want, pay, fully, ads, successively, upon, logging, single, much, closed, ad, number, patient, ways, profit, already, peaked, left, decline]</td>\n",
       "    </tr>\n",
       "  </tbody>\n",
       "</table>\n",
       "</div>"
      ],
      "text/plain": [
       "                                                                                                                                                                                                                                                                                                                                                                                                                                     Review  \\\n",
       "0                                                                                                                                                                                                                                                                                                                             great music service the audio is high quality and the app is easy to use also very quick and friendly support   \n",
       "1                                                                                                                                                                                                                                                                                                                                                       please ignore previous negative rating this app is super great i give it five stars   \n",
       "2                                                                                                                                                                                                                                                                                                                                       this pop up get the best spotify experience on android is too annoying please let s get rid of this   \n",
       "3                                                                                                                                                                                                                                                                                                                                                                                           really buggy and terrible to use as of recently   \n",
       "4                                                                                                                                                                                                                                                                                                                                          dear spotify why do i get songs that i didn t put on my playlist and why do we have shuffle play   \n",
       "5                                                                                                                                                                                                                                                                                                                          the player controls sometimes disappear for no reason app restart forgets what i was playing but fixes the issue   \n",
       "6                                                                                                                                                                                                                                                                                                                                                        i love the selection and the lyrics are provided with the song you re listening to   \n",
       "7                                                                                     still extremely slow when changing storage to external sd card i m convinced this is done on purpose spotify knows of this issue and has done nothing to solve it over time i have changed sd cards each being faster in read write speeds all samsung brand and please add don t like song so it will never appear again in my searches or playlists   \n",
       "8                                                                                                                                                                                                                             it s a great app and the best mp music app i have ever used but there is one problem that why can t we play some songs or find some songs despite this the app is wonderful i recommend it it s just the best   \n",
       "9  i m deleting this app for the following reasons this app now has a failing business model whether streaming services like it or not the consumer doesn t want to pay for music they can t fully own and ads successively upon logging in before a single song is too much closed the app during ad number and i m more patient than most if those are the only ways you can profit you ve already peaked all that s left is your decline   \n",
       "\n",
       "      label  \\\n",
       "0  POSITIVE   \n",
       "1  POSITIVE   \n",
       "2  NEGATIVE   \n",
       "3  NEGATIVE   \n",
       "4  NEGATIVE   \n",
       "5  NEGATIVE   \n",
       "6  POSITIVE   \n",
       "7  NEGATIVE   \n",
       "8  POSITIVE   \n",
       "9  NEGATIVE   \n",
       "\n",
       "                                                                                                                                                                                                                                                                                                                                                                                                                                                                                                                          Tokens  \\\n",
       "0                                                                                                                                                                                                                                                                                                                                                                                            [great, music, service, the, audio, is, high, quality, and, the, app, is, easy, to, use, also, very, quick, and, friendly, support]   \n",
       "1                                                                                                                                                                                                                                                                                                                                                                                                                            [please, ignore, previous, negative, rating, this, app, is, super, great, i, give, it, five, stars]   \n",
       "2                                                                                                                                                                                                                                                                                                                                                                                                       [this, pop, up, get, the, best, spotify, experience, on, android, is, too, annoying, please, let, s, get, rid, of, this]   \n",
       "3                                                                                                                                                                                                                                                                                                                                                                                                                                                                      [really, buggy, and, terrible, to, use, as, of, recently]   \n",
       "4                                                                                                                                                                                                                                                                                                                                                                                                        [dear, spotify, why, do, i, get, songs, that, i, didn, t, put, on, my, playlist, and, why, do, we, have, shuffle, play]   \n",
       "5                                                                                                                                                                                                                                                                                                                                                                                           [the, player, controls, sometimes, disappear, for, no, reason, app, restart, forgets, what, i, was, playing, but, fixes, the, issue]   \n",
       "6                                                                                                                                                                                                                                                                                                                                                                                                                            [i, love, the, selection, and, the, lyrics, are, provided, with, the, song, you, re, listening, to]   \n",
       "7                                                                                                        [still, extremely, slow, when, changing, storage, to, external, sd, card, i, m, convinced, this, is, done, on, purpose, spotify, knows, of, this, issue, and, has, done, nothing, to, solve, it, over, time, i, have, changed, sd, cards, each, being, faster, in, read, write, speeds, all, samsung, brand, and, please, add, don, t, like, song, so, it, will, never, appear, again, in, my, searches, or, playlists]   \n",
       "8                                                                                                                                                                                                                                                                   [it, s, a, great, app, and, the, best, mp, music, app, i, have, ever, used, but, there, is, one, problem, that, why, can, t, we, play, some, songs, or, find, some, songs, despite, this, the, app, is, wonderful, i, recommend, it, it, s, just, the, best]   \n",
       "9  [i, m, deleting, this, app, for, the, following, reasons, this, app, now, has, a, failing, business, model, whether, streaming, services, like, it, or, not, the, consumer, doesn, t, want, to, pay, for, music, they, can, t, fully, own, and, ads, successively, upon, logging, in, before, a, single, song, is, too, much, closed, the, app, during, ad, number, and, i, m, more, patient, than, most, if, those, are, the, only, ways, you, can, profit, you, ve, already, peaked, all, that, s, left, is, your, decline]   \n",
       "\n",
       "                                                                                                                                                                                                                                               Filtered_Tokens  \n",
       "0                                                                                                                                                                            [great, service, audio, high, quality, easy, use, also, quick, friendly, support]  \n",
       "1                                                                                                                                                                                [please, ignore, previous, negative, rating, super, great, give, five, stars]  \n",
       "2                                                                                                                                                                                                 [pop, best, experience, android, annoying, please, let, rid]  \n",
       "3                                                                                                                                                                                                                     [really, buggy, terrible, use, recently]  \n",
       "4                                                                                                                                                                                                                                         [dear, put, shuffle]  \n",
       "5                                                                                                                                                                             [player, controls, sometimes, disappear, reason, restart, forgets, fixes, issue]  \n",
       "6                                                                                                                                                                                                               [love, selection, lyrics, provided, listening]  \n",
       "7  [still, extremely, slow, changing, storage, external, sd, card, convinced, done, purpose, knows, issue, done, nothing, solve, time, changed, sd, cards, faster, read, write, speeds, samsung, brand, please, add, like, never, appear, searches, playlists]  \n",
       "8                                                                                                                                                                       [great, best, mp, ever, used, one, problem, find, despite, wonderful, recommend, best]  \n",
       "9          [deleting, following, reasons, failing, business, model, whether, streaming, services, like, consumer, want, pay, fully, ads, successively, upon, logging, single, much, closed, ad, number, patient, ways, profit, already, peaked, left, decline]  "
      ]
     },
     "execution_count": 20,
     "metadata": {},
     "output_type": "execute_result"
    }
   ],
   "source": [
    "df.head(10) #don't forget to see the magic !"
   ]
  },
  {
   "cell_type": "code",
   "execution_count": 21,
   "id": "b9cf1c2d",
   "metadata": {
    "execution": {
     "iopub.execute_input": "2024-10-14T14:37:06.129240Z",
     "iopub.status.busy": "2024-10-14T14:37:06.128794Z",
     "iopub.status.idle": "2024-10-14T14:37:06.294340Z",
     "shell.execute_reply": "2024-10-14T14:37:06.293111Z"
    },
    "papermill": {
     "duration": 0.185791,
     "end_time": "2024-10-14T14:37:06.296983",
     "exception": false,
     "start_time": "2024-10-14T14:37:06.111192",
     "status": "completed"
    },
    "tags": []
   },
   "outputs": [
    {
     "name": "stdout",
     "output_type": "stream",
     "text": [
      "[('like', 7991), ('good', 7803), ('love', 7758), ('premium', 7003), ('ads', 6743), ('great', 6206), ('even', 5382), ('want', 4948), ('use', 4802), ('update', 4453), ('best', 4291), ('really', 4006), ('one', 3845), ('please', 3797), ('time', 3773), ('fix', 3761), ('every', 3650), ('listening', 3185), ('phone', 3123), ('would', 3063)]\n"
     ]
    }
   ],
   "source": [
    "#I used this to identify/modify my list of custom stop words. \n",
    "from collections import Counter \n",
    "all_filtered_tokens = [word for tokens in df['Filtered_Tokens'] for word in tokens]\n",
    "\n",
    "# Count the occurrences of each word after removing stopwords\n",
    "word_counts_after_removal = Counter(all_filtered_tokens)\n",
    "\n",
    "# Get the 20 most common words after removing stopwords\n",
    "most_common_words_after_removal = word_counts_after_removal.most_common(20)\n",
    "print(most_common_words_after_removal)\n",
    "\n",
    "\n",
    "#choosing custom stop words is tricky as it's debatable whether they contribute \n",
    "#to the accuracy or not. I've selected just a few from top 20."
   ]
  },
  {
   "cell_type": "markdown",
   "id": "7f0abb6f",
   "metadata": {
    "papermill": {
     "duration": 0.015406,
     "end_time": "2024-10-14T14:37:06.328476",
     "exception": false,
     "start_time": "2024-10-14T14:37:06.313070",
     "status": "completed"
    },
    "tags": []
   },
   "source": [
    "# 4. STEMMING\n",
    "\n",
    "Stemming reduces words to their root form (or stem).\n",
    "Note: may not always be a valid word in the language. \n",
    "\n",
    "For example:\n",
    "\"playing\" might be stemmed to \"play\" \n",
    "\n",
    "\"studying\" might be stemmed to \"study\" \n",
    "\n",
    "\"running\" might be stemmed to \"run\" \n",
    "\n",
    "\"ring\" might be stemmed to \"r\"  (ineffiency)\n",
    "\n",
    "# 5.  LEMMATIZATION\n",
    "\n",
    "Lemmatization reduces words to their base or dictionary form (lemma) by considering their dictionary meaning hence providing more accuracy than stemming. \n",
    "\n",
    "For example:\n",
    "\n",
    "\"running\" becomes \"run,\" \n",
    "\n",
    "\"better\" becomes \"good.\"\n",
    "\n",
    "\"ring\" remains \"ring.\"\n",
    "\n",
    "**Hence I won't be performing Stemming, I'll be going forward with Lemmatization.**"
   ]
  },
  {
   "cell_type": "code",
   "execution_count": 22,
   "id": "602bc6a6",
   "metadata": {
    "execution": {
     "iopub.execute_input": "2024-10-14T14:37:06.362168Z",
     "iopub.status.busy": "2024-10-14T14:37:06.361725Z",
     "iopub.status.idle": "2024-10-14T14:37:07.913083Z",
     "shell.execute_reply": "2024-10-14T14:37:07.911664Z"
    },
    "papermill": {
     "duration": 1.571516,
     "end_time": "2024-10-14T14:37:07.915911",
     "exception": false,
     "start_time": "2024-10-14T14:37:06.344395",
     "status": "completed"
    },
    "tags": []
   },
   "outputs": [
    {
     "name": "stdout",
     "output_type": "stream",
     "text": [
      "Archive:  /usr/share/nltk_data/corpora/wordnet.zip\r\n",
      "   creating: /usr/share/nltk_data/corpora/wordnet/\r\n",
      "  inflating: /usr/share/nltk_data/corpora/wordnet/lexnames  \r\n",
      "  inflating: /usr/share/nltk_data/corpora/wordnet/data.verb  \r\n",
      "  inflating: /usr/share/nltk_data/corpora/wordnet/index.adv  \r\n",
      "  inflating: /usr/share/nltk_data/corpora/wordnet/adv.exc  \r\n",
      "  inflating: /usr/share/nltk_data/corpora/wordnet/index.verb  \r\n",
      "  inflating: /usr/share/nltk_data/corpora/wordnet/cntlist.rev  \r\n",
      "  inflating: /usr/share/nltk_data/corpora/wordnet/data.adj  \r\n",
      "  inflating: /usr/share/nltk_data/corpora/wordnet/index.adj  \r\n",
      "  inflating: /usr/share/nltk_data/corpora/wordnet/LICENSE  \r\n",
      "  inflating: /usr/share/nltk_data/corpora/wordnet/citation.bib  \r\n",
      "  inflating: /usr/share/nltk_data/corpora/wordnet/noun.exc  \r\n",
      "  inflating: /usr/share/nltk_data/corpora/wordnet/verb.exc  \r\n",
      "  inflating: /usr/share/nltk_data/corpora/wordnet/README  \r\n",
      "  inflating: /usr/share/nltk_data/corpora/wordnet/index.sense  \r\n",
      "  inflating: /usr/share/nltk_data/corpora/wordnet/data.noun  \r\n",
      "  inflating: /usr/share/nltk_data/corpora/wordnet/data.adv  \r\n",
      "  inflating: /usr/share/nltk_data/corpora/wordnet/index.noun  \r\n",
      "  inflating: /usr/share/nltk_data/corpora/wordnet/adj.exc  \r\n"
     ]
    }
   ],
   "source": [
    "!unzip /usr/share/nltk_data/corpora/wordnet.zip -d /usr/share/nltk_data/corpora/\n",
    "#to use wordnet; execute this (to avoid error). \n",
    "#REFER TO DISCUSSION: https://www.kaggle.com/discussions/general/395169"
   ]
  },
  {
   "cell_type": "code",
   "execution_count": 23,
   "id": "3aa45a6e",
   "metadata": {
    "execution": {
     "iopub.execute_input": "2024-10-14T14:37:07.951633Z",
     "iopub.status.busy": "2024-10-14T14:37:07.951150Z",
     "iopub.status.idle": "2024-10-14T14:37:15.453013Z",
     "shell.execute_reply": "2024-10-14T14:37:15.451497Z"
    },
    "papermill": {
     "duration": 7.5235,
     "end_time": "2024-10-14T14:37:15.456159",
     "exception": false,
     "start_time": "2024-10-14T14:37:07.932659",
     "status": "completed"
    },
    "tags": []
   },
   "outputs": [],
   "source": [
    "from nltk.stem import WordNetLemmatizer\n",
    "\n",
    "# Initialize the lemmatizer\n",
    "lemmatizer = WordNetLemmatizer()\n",
    "\n",
    "# Function to perform lemmatization\n",
    "def lemmatize_tokens(tokens):\n",
    "    return [lemmatizer.lemmatize(word, pos='v') for word in tokens]\n",
    "#pos is set to v (verb) for better accuracy. Refer below manual to understand more.\n",
    "# refer: https://www.nltk.org/book/ch05.html\n",
    "df['Lemmatized_Tokens'] = df['Filtered_Tokens'].apply(lemmatize_tokens)"
   ]
  },
  {
   "cell_type": "code",
   "execution_count": 24,
   "id": "05b65a62",
   "metadata": {
    "execution": {
     "iopub.execute_input": "2024-10-14T14:37:15.491110Z",
     "iopub.status.busy": "2024-10-14T14:37:15.490692Z",
     "iopub.status.idle": "2024-10-14T14:37:15.524248Z",
     "shell.execute_reply": "2024-10-14T14:37:15.523064Z"
    },
    "papermill": {
     "duration": 0.054747,
     "end_time": "2024-10-14T14:37:15.527513",
     "exception": false,
     "start_time": "2024-10-14T14:37:15.472766",
     "status": "completed"
    },
    "tags": []
   },
   "outputs": [
    {
     "data": {
      "text/html": [
       "<div>\n",
       "<style scoped>\n",
       "    .dataframe tbody tr th:only-of-type {\n",
       "        vertical-align: middle;\n",
       "    }\n",
       "\n",
       "    .dataframe tbody tr th {\n",
       "        vertical-align: top;\n",
       "    }\n",
       "\n",
       "    .dataframe thead th {\n",
       "        text-align: right;\n",
       "    }\n",
       "</style>\n",
       "<table border=\"1\" class=\"dataframe\">\n",
       "  <thead>\n",
       "    <tr style=\"text-align: right;\">\n",
       "      <th></th>\n",
       "      <th>Review</th>\n",
       "      <th>label</th>\n",
       "      <th>Tokens</th>\n",
       "      <th>Filtered_Tokens</th>\n",
       "      <th>Lemmatized_Tokens</th>\n",
       "    </tr>\n",
       "  </thead>\n",
       "  <tbody>\n",
       "    <tr>\n",
       "      <th>0</th>\n",
       "      <td>great music service the audio is high quality and the app is easy to use also very quick and friendly support</td>\n",
       "      <td>POSITIVE</td>\n",
       "      <td>[great, music, service, the, audio, is, high, quality, and, the, app, is, easy, to, use, also, very, quick, and, friendly, support]</td>\n",
       "      <td>[great, service, audio, high, quality, easy, use, also, quick, friendly, support]</td>\n",
       "      <td>[great, service, audio, high, quality, easy, use, also, quick, friendly, support]</td>\n",
       "    </tr>\n",
       "    <tr>\n",
       "      <th>1</th>\n",
       "      <td>please ignore previous negative rating this app is super great i give it five stars</td>\n",
       "      <td>POSITIVE</td>\n",
       "      <td>[please, ignore, previous, negative, rating, this, app, is, super, great, i, give, it, five, stars]</td>\n",
       "      <td>[please, ignore, previous, negative, rating, super, great, give, five, stars]</td>\n",
       "      <td>[please, ignore, previous, negative, rat, super, great, give, five, star]</td>\n",
       "    </tr>\n",
       "    <tr>\n",
       "      <th>2</th>\n",
       "      <td>this pop up get the best spotify experience on android is too annoying please let s get rid of this</td>\n",
       "      <td>NEGATIVE</td>\n",
       "      <td>[this, pop, up, get, the, best, spotify, experience, on, android, is, too, annoying, please, let, s, get, rid, of, this]</td>\n",
       "      <td>[pop, best, experience, android, annoying, please, let, rid]</td>\n",
       "      <td>[pop, best, experience, android, annoy, please, let, rid]</td>\n",
       "    </tr>\n",
       "    <tr>\n",
       "      <th>3</th>\n",
       "      <td>really buggy and terrible to use as of recently</td>\n",
       "      <td>NEGATIVE</td>\n",
       "      <td>[really, buggy, and, terrible, to, use, as, of, recently]</td>\n",
       "      <td>[really, buggy, terrible, use, recently]</td>\n",
       "      <td>[really, buggy, terrible, use, recently]</td>\n",
       "    </tr>\n",
       "    <tr>\n",
       "      <th>4</th>\n",
       "      <td>dear spotify why do i get songs that i didn t put on my playlist and why do we have shuffle play</td>\n",
       "      <td>NEGATIVE</td>\n",
       "      <td>[dear, spotify, why, do, i, get, songs, that, i, didn, t, put, on, my, playlist, and, why, do, we, have, shuffle, play]</td>\n",
       "      <td>[dear, put, shuffle]</td>\n",
       "      <td>[dear, put, shuffle]</td>\n",
       "    </tr>\n",
       "    <tr>\n",
       "      <th>5</th>\n",
       "      <td>the player controls sometimes disappear for no reason app restart forgets what i was playing but fixes the issue</td>\n",
       "      <td>NEGATIVE</td>\n",
       "      <td>[the, player, controls, sometimes, disappear, for, no, reason, app, restart, forgets, what, i, was, playing, but, fixes, the, issue]</td>\n",
       "      <td>[player, controls, sometimes, disappear, reason, restart, forgets, fixes, issue]</td>\n",
       "      <td>[player, control, sometimes, disappear, reason, restart, forget, fix, issue]</td>\n",
       "    </tr>\n",
       "    <tr>\n",
       "      <th>6</th>\n",
       "      <td>i love the selection and the lyrics are provided with the song you re listening to</td>\n",
       "      <td>POSITIVE</td>\n",
       "      <td>[i, love, the, selection, and, the, lyrics, are, provided, with, the, song, you, re, listening, to]</td>\n",
       "      <td>[love, selection, lyrics, provided, listening]</td>\n",
       "      <td>[love, selection, lyric, provide, listen]</td>\n",
       "    </tr>\n",
       "    <tr>\n",
       "      <th>7</th>\n",
       "      <td>still extremely slow when changing storage to external sd card i m convinced this is done on purpose spotify knows of this issue and has done nothing to solve it over time i have changed sd cards each being faster in read write speeds all samsung brand and please add don t like song so it will never appear again in my searches or playlists</td>\n",
       "      <td>NEGATIVE</td>\n",
       "      <td>[still, extremely, slow, when, changing, storage, to, external, sd, card, i, m, convinced, this, is, done, on, purpose, spotify, knows, of, this, issue, and, has, done, nothing, to, solve, it, over, time, i, have, changed, sd, cards, each, being, faster, in, read, write, speeds, all, samsung, brand, and, please, add, don, t, like, song, so, it, will, never, appear, again, in, my, searches, or, playlists]</td>\n",
       "      <td>[still, extremely, slow, changing, storage, external, sd, card, convinced, done, purpose, knows, issue, done, nothing, solve, time, changed, sd, cards, faster, read, write, speeds, samsung, brand, please, add, like, never, appear, searches, playlists]</td>\n",
       "      <td>[still, extremely, slow, change, storage, external, sd, card, convince, do, purpose, know, issue, do, nothing, solve, time, change, sd, card, faster, read, write, speed, samsung, brand, please, add, like, never, appear, search, playlists]</td>\n",
       "    </tr>\n",
       "    <tr>\n",
       "      <th>8</th>\n",
       "      <td>it s a great app and the best mp music app i have ever used but there is one problem that why can t we play some songs or find some songs despite this the app is wonderful i recommend it it s just the best</td>\n",
       "      <td>POSITIVE</td>\n",
       "      <td>[it, s, a, great, app, and, the, best, mp, music, app, i, have, ever, used, but, there, is, one, problem, that, why, can, t, we, play, some, songs, or, find, some, songs, despite, this, the, app, is, wonderful, i, recommend, it, it, s, just, the, best]</td>\n",
       "      <td>[great, best, mp, ever, used, one, problem, find, despite, wonderful, recommend, best]</td>\n",
       "      <td>[great, best, mp, ever, use, one, problem, find, despite, wonderful, recommend, best]</td>\n",
       "    </tr>\n",
       "    <tr>\n",
       "      <th>9</th>\n",
       "      <td>i m deleting this app for the following reasons this app now has a failing business model whether streaming services like it or not the consumer doesn t want to pay for music they can t fully own and ads successively upon logging in before a single song is too much closed the app during ad number and i m more patient than most if those are the only ways you can profit you ve already peaked all that s left is your decline</td>\n",
       "      <td>NEGATIVE</td>\n",
       "      <td>[i, m, deleting, this, app, for, the, following, reasons, this, app, now, has, a, failing, business, model, whether, streaming, services, like, it, or, not, the, consumer, doesn, t, want, to, pay, for, music, they, can, t, fully, own, and, ads, successively, upon, logging, in, before, a, single, song, is, too, much, closed, the, app, during, ad, number, and, i, m, more, patient, than, most, if, those, are, the, only, ways, you, can, profit, you, ve, already, peaked, all, that, s, left, is, your, decline]</td>\n",
       "      <td>[deleting, following, reasons, failing, business, model, whether, streaming, services, like, consumer, want, pay, fully, ads, successively, upon, logging, single, much, closed, ad, number, patient, ways, profit, already, peaked, left, decline]</td>\n",
       "      <td>[delete, follow, reason, fail, business, model, whether, stream, service, like, consumer, want, pay, fully, ads, successively, upon, log, single, much, close, ad, number, patient, ways, profit, already, peak, leave, decline]</td>\n",
       "    </tr>\n",
       "  </tbody>\n",
       "</table>\n",
       "</div>"
      ],
      "text/plain": [
       "                                                                                                                                                                                                                                                                                                                                                                                                                                     Review  \\\n",
       "0                                                                                                                                                                                                                                                                                                                             great music service the audio is high quality and the app is easy to use also very quick and friendly support   \n",
       "1                                                                                                                                                                                                                                                                                                                                                       please ignore previous negative rating this app is super great i give it five stars   \n",
       "2                                                                                                                                                                                                                                                                                                                                       this pop up get the best spotify experience on android is too annoying please let s get rid of this   \n",
       "3                                                                                                                                                                                                                                                                                                                                                                                           really buggy and terrible to use as of recently   \n",
       "4                                                                                                                                                                                                                                                                                                                                          dear spotify why do i get songs that i didn t put on my playlist and why do we have shuffle play   \n",
       "5                                                                                                                                                                                                                                                                                                                          the player controls sometimes disappear for no reason app restart forgets what i was playing but fixes the issue   \n",
       "6                                                                                                                                                                                                                                                                                                                                                        i love the selection and the lyrics are provided with the song you re listening to   \n",
       "7                                                                                     still extremely slow when changing storage to external sd card i m convinced this is done on purpose spotify knows of this issue and has done nothing to solve it over time i have changed sd cards each being faster in read write speeds all samsung brand and please add don t like song so it will never appear again in my searches or playlists   \n",
       "8                                                                                                                                                                                                                             it s a great app and the best mp music app i have ever used but there is one problem that why can t we play some songs or find some songs despite this the app is wonderful i recommend it it s just the best   \n",
       "9  i m deleting this app for the following reasons this app now has a failing business model whether streaming services like it or not the consumer doesn t want to pay for music they can t fully own and ads successively upon logging in before a single song is too much closed the app during ad number and i m more patient than most if those are the only ways you can profit you ve already peaked all that s left is your decline   \n",
       "\n",
       "      label  \\\n",
       "0  POSITIVE   \n",
       "1  POSITIVE   \n",
       "2  NEGATIVE   \n",
       "3  NEGATIVE   \n",
       "4  NEGATIVE   \n",
       "5  NEGATIVE   \n",
       "6  POSITIVE   \n",
       "7  NEGATIVE   \n",
       "8  POSITIVE   \n",
       "9  NEGATIVE   \n",
       "\n",
       "                                                                                                                                                                                                                                                                                                                                                                                                                                                                                                                          Tokens  \\\n",
       "0                                                                                                                                                                                                                                                                                                                                                                                            [great, music, service, the, audio, is, high, quality, and, the, app, is, easy, to, use, also, very, quick, and, friendly, support]   \n",
       "1                                                                                                                                                                                                                                                                                                                                                                                                                            [please, ignore, previous, negative, rating, this, app, is, super, great, i, give, it, five, stars]   \n",
       "2                                                                                                                                                                                                                                                                                                                                                                                                       [this, pop, up, get, the, best, spotify, experience, on, android, is, too, annoying, please, let, s, get, rid, of, this]   \n",
       "3                                                                                                                                                                                                                                                                                                                                                                                                                                                                      [really, buggy, and, terrible, to, use, as, of, recently]   \n",
       "4                                                                                                                                                                                                                                                                                                                                                                                                        [dear, spotify, why, do, i, get, songs, that, i, didn, t, put, on, my, playlist, and, why, do, we, have, shuffle, play]   \n",
       "5                                                                                                                                                                                                                                                                                                                                                                                           [the, player, controls, sometimes, disappear, for, no, reason, app, restart, forgets, what, i, was, playing, but, fixes, the, issue]   \n",
       "6                                                                                                                                                                                                                                                                                                                                                                                                                            [i, love, the, selection, and, the, lyrics, are, provided, with, the, song, you, re, listening, to]   \n",
       "7                                                                                                        [still, extremely, slow, when, changing, storage, to, external, sd, card, i, m, convinced, this, is, done, on, purpose, spotify, knows, of, this, issue, and, has, done, nothing, to, solve, it, over, time, i, have, changed, sd, cards, each, being, faster, in, read, write, speeds, all, samsung, brand, and, please, add, don, t, like, song, so, it, will, never, appear, again, in, my, searches, or, playlists]   \n",
       "8                                                                                                                                                                                                                                                                   [it, s, a, great, app, and, the, best, mp, music, app, i, have, ever, used, but, there, is, one, problem, that, why, can, t, we, play, some, songs, or, find, some, songs, despite, this, the, app, is, wonderful, i, recommend, it, it, s, just, the, best]   \n",
       "9  [i, m, deleting, this, app, for, the, following, reasons, this, app, now, has, a, failing, business, model, whether, streaming, services, like, it, or, not, the, consumer, doesn, t, want, to, pay, for, music, they, can, t, fully, own, and, ads, successively, upon, logging, in, before, a, single, song, is, too, much, closed, the, app, during, ad, number, and, i, m, more, patient, than, most, if, those, are, the, only, ways, you, can, profit, you, ve, already, peaked, all, that, s, left, is, your, decline]   \n",
       "\n",
       "                                                                                                                                                                                                                                               Filtered_Tokens  \\\n",
       "0                                                                                                                                                                            [great, service, audio, high, quality, easy, use, also, quick, friendly, support]   \n",
       "1                                                                                                                                                                                [please, ignore, previous, negative, rating, super, great, give, five, stars]   \n",
       "2                                                                                                                                                                                                 [pop, best, experience, android, annoying, please, let, rid]   \n",
       "3                                                                                                                                                                                                                     [really, buggy, terrible, use, recently]   \n",
       "4                                                                                                                                                                                                                                         [dear, put, shuffle]   \n",
       "5                                                                                                                                                                             [player, controls, sometimes, disappear, reason, restart, forgets, fixes, issue]   \n",
       "6                                                                                                                                                                                                               [love, selection, lyrics, provided, listening]   \n",
       "7  [still, extremely, slow, changing, storage, external, sd, card, convinced, done, purpose, knows, issue, done, nothing, solve, time, changed, sd, cards, faster, read, write, speeds, samsung, brand, please, add, like, never, appear, searches, playlists]   \n",
       "8                                                                                                                                                                       [great, best, mp, ever, used, one, problem, find, despite, wonderful, recommend, best]   \n",
       "9          [deleting, following, reasons, failing, business, model, whether, streaming, services, like, consumer, want, pay, fully, ads, successively, upon, logging, single, much, closed, ad, number, patient, ways, profit, already, peaked, left, decline]   \n",
       "\n",
       "                                                                                                                                                                                                                                Lemmatized_Tokens  \n",
       "0                                                                                                                                                               [great, service, audio, high, quality, easy, use, also, quick, friendly, support]  \n",
       "1                                                                                                                                                                       [please, ignore, previous, negative, rat, super, great, give, five, star]  \n",
       "2                                                                                                                                                                                       [pop, best, experience, android, annoy, please, let, rid]  \n",
       "3                                                                                                                                                                                                        [really, buggy, terrible, use, recently]  \n",
       "4                                                                                                                                                                                                                            [dear, put, shuffle]  \n",
       "5                                                                                                                                                                    [player, control, sometimes, disappear, reason, restart, forget, fix, issue]  \n",
       "6                                                                                                                                                                                                       [love, selection, lyric, provide, listen]  \n",
       "7  [still, extremely, slow, change, storage, external, sd, card, convince, do, purpose, know, issue, do, nothing, solve, time, change, sd, card, faster, read, write, speed, samsung, brand, please, add, like, never, appear, search, playlists]  \n",
       "8                                                                                                                                                           [great, best, mp, ever, use, one, problem, find, despite, wonderful, recommend, best]  \n",
       "9                [delete, follow, reason, fail, business, model, whether, stream, service, like, consumer, want, pay, fully, ads, successively, upon, log, single, much, close, ad, number, patient, ways, profit, already, peak, leave, decline]  "
      ]
     },
     "execution_count": 24,
     "metadata": {},
     "output_type": "execute_result"
    }
   ],
   "source": [
    "df.head(10)"
   ]
  },
  {
   "cell_type": "markdown",
   "id": "47174d1c",
   "metadata": {
    "papermill": {
     "duration": 0.01671,
     "end_time": "2024-10-14T14:37:15.561430",
     "exception": false,
     "start_time": "2024-10-14T14:37:15.544720",
     "status": "completed"
    },
    "tags": []
   },
   "source": [
    "# FEATURE EXTRACTION using TF-IDF\n",
    "\n",
    "TF-IDF is a natural language processing (NLP) technique that's used to evaluate the importance of different words in a sentence.\n",
    "\n",
    "\n",
    "It's simple, intuitive technique which utilizes a fixed size input.\n",
    "It captures the importance of words (hence the semantics) while reducing the influence of stopwords alongside."
   ]
  },
  {
   "cell_type": "code",
   "execution_count": 25,
   "id": "a33ea260",
   "metadata": {
    "execution": {
     "iopub.execute_input": "2024-10-14T14:37:15.598459Z",
     "iopub.status.busy": "2024-10-14T14:37:15.598019Z",
     "iopub.status.idle": "2024-10-14T14:37:16.865550Z",
     "shell.execute_reply": "2024-10-14T14:37:16.864347Z"
    },
    "papermill": {
     "duration": 1.290601,
     "end_time": "2024-10-14T14:37:16.869126",
     "exception": false,
     "start_time": "2024-10-14T14:37:15.578525",
     "status": "completed"
    },
    "tags": []
   },
   "outputs": [
    {
     "data": {
      "text/html": [
       "<div>\n",
       "<style scoped>\n",
       "    .dataframe tbody tr th:only-of-type {\n",
       "        vertical-align: middle;\n",
       "    }\n",
       "\n",
       "    .dataframe tbody tr th {\n",
       "        vertical-align: top;\n",
       "    }\n",
       "\n",
       "    .dataframe thead th {\n",
       "        text-align: right;\n",
       "    }\n",
       "</style>\n",
       "<table border=\"1\" class=\"dataframe\">\n",
       "  <thead>\n",
       "    <tr style=\"text-align: right;\">\n",
       "      <th></th>\n",
       "      <th>Review</th>\n",
       "      <th>label</th>\n",
       "      <th>Tokens</th>\n",
       "      <th>Filtered_Tokens</th>\n",
       "      <th>Lemmatized_Tokens</th>\n",
       "      <th>TFIDF_Tokens</th>\n",
       "    </tr>\n",
       "  </thead>\n",
       "  <tbody>\n",
       "    <tr>\n",
       "      <th>0</th>\n",
       "      <td>great music service the audio is high quality and the app is easy to use also very quick and friendly support</td>\n",
       "      <td>POSITIVE</td>\n",
       "      <td>[great, music, service, the, audio, is, high, quality, and, the, app, is, easy, to, use, also, very, quick, and, friendly, support]</td>\n",
       "      <td>[great, service, audio, high, quality, easy, use, also, quick, friendly, support]</td>\n",
       "      <td>[great, service, audio, high, quality, easy, use, also, quick, friendly, support]</td>\n",
       "      <td>great service audio high quality easy use also quick friendly support</td>\n",
       "    </tr>\n",
       "    <tr>\n",
       "      <th>1</th>\n",
       "      <td>please ignore previous negative rating this app is super great i give it five stars</td>\n",
       "      <td>POSITIVE</td>\n",
       "      <td>[please, ignore, previous, negative, rating, this, app, is, super, great, i, give, it, five, stars]</td>\n",
       "      <td>[please, ignore, previous, negative, rating, super, great, give, five, stars]</td>\n",
       "      <td>[please, ignore, previous, negative, rat, super, great, give, five, star]</td>\n",
       "      <td>please ignore previous negative rat super great give five star</td>\n",
       "    </tr>\n",
       "    <tr>\n",
       "      <th>2</th>\n",
       "      <td>this pop up get the best spotify experience on android is too annoying please let s get rid of this</td>\n",
       "      <td>NEGATIVE</td>\n",
       "      <td>[this, pop, up, get, the, best, spotify, experience, on, android, is, too, annoying, please, let, s, get, rid, of, this]</td>\n",
       "      <td>[pop, best, experience, android, annoying, please, let, rid]</td>\n",
       "      <td>[pop, best, experience, android, annoy, please, let, rid]</td>\n",
       "      <td>pop best experience android annoy please let rid</td>\n",
       "    </tr>\n",
       "    <tr>\n",
       "      <th>3</th>\n",
       "      <td>really buggy and terrible to use as of recently</td>\n",
       "      <td>NEGATIVE</td>\n",
       "      <td>[really, buggy, and, terrible, to, use, as, of, recently]</td>\n",
       "      <td>[really, buggy, terrible, use, recently]</td>\n",
       "      <td>[really, buggy, terrible, use, recently]</td>\n",
       "      <td>really buggy terrible use recently</td>\n",
       "    </tr>\n",
       "    <tr>\n",
       "      <th>4</th>\n",
       "      <td>dear spotify why do i get songs that i didn t put on my playlist and why do we have shuffle play</td>\n",
       "      <td>NEGATIVE</td>\n",
       "      <td>[dear, spotify, why, do, i, get, songs, that, i, didn, t, put, on, my, playlist, and, why, do, we, have, shuffle, play]</td>\n",
       "      <td>[dear, put, shuffle]</td>\n",
       "      <td>[dear, put, shuffle]</td>\n",
       "      <td>dear put shuffle</td>\n",
       "    </tr>\n",
       "    <tr>\n",
       "      <th>5</th>\n",
       "      <td>the player controls sometimes disappear for no reason app restart forgets what i was playing but fixes the issue</td>\n",
       "      <td>NEGATIVE</td>\n",
       "      <td>[the, player, controls, sometimes, disappear, for, no, reason, app, restart, forgets, what, i, was, playing, but, fixes, the, issue]</td>\n",
       "      <td>[player, controls, sometimes, disappear, reason, restart, forgets, fixes, issue]</td>\n",
       "      <td>[player, control, sometimes, disappear, reason, restart, forget, fix, issue]</td>\n",
       "      <td>player control sometimes disappear reason restart forget fix issue</td>\n",
       "    </tr>\n",
       "    <tr>\n",
       "      <th>6</th>\n",
       "      <td>i love the selection and the lyrics are provided with the song you re listening to</td>\n",
       "      <td>POSITIVE</td>\n",
       "      <td>[i, love, the, selection, and, the, lyrics, are, provided, with, the, song, you, re, listening, to]</td>\n",
       "      <td>[love, selection, lyrics, provided, listening]</td>\n",
       "      <td>[love, selection, lyric, provide, listen]</td>\n",
       "      <td>love selection lyric provide listen</td>\n",
       "    </tr>\n",
       "    <tr>\n",
       "      <th>7</th>\n",
       "      <td>still extremely slow when changing storage to external sd card i m convinced this is done on purpose spotify knows of this issue and has done nothing to solve it over time i have changed sd cards each being faster in read write speeds all samsung brand and please add don t like song so it will never appear again in my searches or playlists</td>\n",
       "      <td>NEGATIVE</td>\n",
       "      <td>[still, extremely, slow, when, changing, storage, to, external, sd, card, i, m, convinced, this, is, done, on, purpose, spotify, knows, of, this, issue, and, has, done, nothing, to, solve, it, over, time, i, have, changed, sd, cards, each, being, faster, in, read, write, speeds, all, samsung, brand, and, please, add, don, t, like, song, so, it, will, never, appear, again, in, my, searches, or, playlists]</td>\n",
       "      <td>[still, extremely, slow, changing, storage, external, sd, card, convinced, done, purpose, knows, issue, done, nothing, solve, time, changed, sd, cards, faster, read, write, speeds, samsung, brand, please, add, like, never, appear, searches, playlists]</td>\n",
       "      <td>[still, extremely, slow, change, storage, external, sd, card, convince, do, purpose, know, issue, do, nothing, solve, time, change, sd, card, faster, read, write, speed, samsung, brand, please, add, like, never, appear, search, playlists]</td>\n",
       "      <td>still extremely slow change storage external sd card convince do purpose know issue do nothing solve time change sd card faster read write speed samsung brand please add like never appear search playlists</td>\n",
       "    </tr>\n",
       "    <tr>\n",
       "      <th>8</th>\n",
       "      <td>it s a great app and the best mp music app i have ever used but there is one problem that why can t we play some songs or find some songs despite this the app is wonderful i recommend it it s just the best</td>\n",
       "      <td>POSITIVE</td>\n",
       "      <td>[it, s, a, great, app, and, the, best, mp, music, app, i, have, ever, used, but, there, is, one, problem, that, why, can, t, we, play, some, songs, or, find, some, songs, despite, this, the, app, is, wonderful, i, recommend, it, it, s, just, the, best]</td>\n",
       "      <td>[great, best, mp, ever, used, one, problem, find, despite, wonderful, recommend, best]</td>\n",
       "      <td>[great, best, mp, ever, use, one, problem, find, despite, wonderful, recommend, best]</td>\n",
       "      <td>great best mp ever use one problem find despite wonderful recommend best</td>\n",
       "    </tr>\n",
       "    <tr>\n",
       "      <th>9</th>\n",
       "      <td>i m deleting this app for the following reasons this app now has a failing business model whether streaming services like it or not the consumer doesn t want to pay for music they can t fully own and ads successively upon logging in before a single song is too much closed the app during ad number and i m more patient than most if those are the only ways you can profit you ve already peaked all that s left is your decline</td>\n",
       "      <td>NEGATIVE</td>\n",
       "      <td>[i, m, deleting, this, app, for, the, following, reasons, this, app, now, has, a, failing, business, model, whether, streaming, services, like, it, or, not, the, consumer, doesn, t, want, to, pay, for, music, they, can, t, fully, own, and, ads, successively, upon, logging, in, before, a, single, song, is, too, much, closed, the, app, during, ad, number, and, i, m, more, patient, than, most, if, those, are, the, only, ways, you, can, profit, you, ve, already, peaked, all, that, s, left, is, your, decline]</td>\n",
       "      <td>[deleting, following, reasons, failing, business, model, whether, streaming, services, like, consumer, want, pay, fully, ads, successively, upon, logging, single, much, closed, ad, number, patient, ways, profit, already, peaked, left, decline]</td>\n",
       "      <td>[delete, follow, reason, fail, business, model, whether, stream, service, like, consumer, want, pay, fully, ads, successively, upon, log, single, much, close, ad, number, patient, ways, profit, already, peak, leave, decline]</td>\n",
       "      <td>delete follow reason fail business model whether stream service like consumer want pay fully ads successively upon log single much close ad number patient ways profit already peak leave decline</td>\n",
       "    </tr>\n",
       "  </tbody>\n",
       "</table>\n",
       "</div>"
      ],
      "text/plain": [
       "                                                                                                                                                                                                                                                                                                                                                                                                                                     Review  \\\n",
       "0                                                                                                                                                                                                                                                                                                                             great music service the audio is high quality and the app is easy to use also very quick and friendly support   \n",
       "1                                                                                                                                                                                                                                                                                                                                                       please ignore previous negative rating this app is super great i give it five stars   \n",
       "2                                                                                                                                                                                                                                                                                                                                       this pop up get the best spotify experience on android is too annoying please let s get rid of this   \n",
       "3                                                                                                                                                                                                                                                                                                                                                                                           really buggy and terrible to use as of recently   \n",
       "4                                                                                                                                                                                                                                                                                                                                          dear spotify why do i get songs that i didn t put on my playlist and why do we have shuffle play   \n",
       "5                                                                                                                                                                                                                                                                                                                          the player controls sometimes disappear for no reason app restart forgets what i was playing but fixes the issue   \n",
       "6                                                                                                                                                                                                                                                                                                                                                        i love the selection and the lyrics are provided with the song you re listening to   \n",
       "7                                                                                     still extremely slow when changing storage to external sd card i m convinced this is done on purpose spotify knows of this issue and has done nothing to solve it over time i have changed sd cards each being faster in read write speeds all samsung brand and please add don t like song so it will never appear again in my searches or playlists   \n",
       "8                                                                                                                                                                                                                             it s a great app and the best mp music app i have ever used but there is one problem that why can t we play some songs or find some songs despite this the app is wonderful i recommend it it s just the best   \n",
       "9  i m deleting this app for the following reasons this app now has a failing business model whether streaming services like it or not the consumer doesn t want to pay for music they can t fully own and ads successively upon logging in before a single song is too much closed the app during ad number and i m more patient than most if those are the only ways you can profit you ve already peaked all that s left is your decline   \n",
       "\n",
       "      label  \\\n",
       "0  POSITIVE   \n",
       "1  POSITIVE   \n",
       "2  NEGATIVE   \n",
       "3  NEGATIVE   \n",
       "4  NEGATIVE   \n",
       "5  NEGATIVE   \n",
       "6  POSITIVE   \n",
       "7  NEGATIVE   \n",
       "8  POSITIVE   \n",
       "9  NEGATIVE   \n",
       "\n",
       "                                                                                                                                                                                                                                                                                                                                                                                                                                                                                                                          Tokens  \\\n",
       "0                                                                                                                                                                                                                                                                                                                                                                                            [great, music, service, the, audio, is, high, quality, and, the, app, is, easy, to, use, also, very, quick, and, friendly, support]   \n",
       "1                                                                                                                                                                                                                                                                                                                                                                                                                            [please, ignore, previous, negative, rating, this, app, is, super, great, i, give, it, five, stars]   \n",
       "2                                                                                                                                                                                                                                                                                                                                                                                                       [this, pop, up, get, the, best, spotify, experience, on, android, is, too, annoying, please, let, s, get, rid, of, this]   \n",
       "3                                                                                                                                                                                                                                                                                                                                                                                                                                                                      [really, buggy, and, terrible, to, use, as, of, recently]   \n",
       "4                                                                                                                                                                                                                                                                                                                                                                                                        [dear, spotify, why, do, i, get, songs, that, i, didn, t, put, on, my, playlist, and, why, do, we, have, shuffle, play]   \n",
       "5                                                                                                                                                                                                                                                                                                                                                                                           [the, player, controls, sometimes, disappear, for, no, reason, app, restart, forgets, what, i, was, playing, but, fixes, the, issue]   \n",
       "6                                                                                                                                                                                                                                                                                                                                                                                                                            [i, love, the, selection, and, the, lyrics, are, provided, with, the, song, you, re, listening, to]   \n",
       "7                                                                                                        [still, extremely, slow, when, changing, storage, to, external, sd, card, i, m, convinced, this, is, done, on, purpose, spotify, knows, of, this, issue, and, has, done, nothing, to, solve, it, over, time, i, have, changed, sd, cards, each, being, faster, in, read, write, speeds, all, samsung, brand, and, please, add, don, t, like, song, so, it, will, never, appear, again, in, my, searches, or, playlists]   \n",
       "8                                                                                                                                                                                                                                                                   [it, s, a, great, app, and, the, best, mp, music, app, i, have, ever, used, but, there, is, one, problem, that, why, can, t, we, play, some, songs, or, find, some, songs, despite, this, the, app, is, wonderful, i, recommend, it, it, s, just, the, best]   \n",
       "9  [i, m, deleting, this, app, for, the, following, reasons, this, app, now, has, a, failing, business, model, whether, streaming, services, like, it, or, not, the, consumer, doesn, t, want, to, pay, for, music, they, can, t, fully, own, and, ads, successively, upon, logging, in, before, a, single, song, is, too, much, closed, the, app, during, ad, number, and, i, m, more, patient, than, most, if, those, are, the, only, ways, you, can, profit, you, ve, already, peaked, all, that, s, left, is, your, decline]   \n",
       "\n",
       "                                                                                                                                                                                                                                               Filtered_Tokens  \\\n",
       "0                                                                                                                                                                            [great, service, audio, high, quality, easy, use, also, quick, friendly, support]   \n",
       "1                                                                                                                                                                                [please, ignore, previous, negative, rating, super, great, give, five, stars]   \n",
       "2                                                                                                                                                                                                 [pop, best, experience, android, annoying, please, let, rid]   \n",
       "3                                                                                                                                                                                                                     [really, buggy, terrible, use, recently]   \n",
       "4                                                                                                                                                                                                                                         [dear, put, shuffle]   \n",
       "5                                                                                                                                                                             [player, controls, sometimes, disappear, reason, restart, forgets, fixes, issue]   \n",
       "6                                                                                                                                                                                                               [love, selection, lyrics, provided, listening]   \n",
       "7  [still, extremely, slow, changing, storage, external, sd, card, convinced, done, purpose, knows, issue, done, nothing, solve, time, changed, sd, cards, faster, read, write, speeds, samsung, brand, please, add, like, never, appear, searches, playlists]   \n",
       "8                                                                                                                                                                       [great, best, mp, ever, used, one, problem, find, despite, wonderful, recommend, best]   \n",
       "9          [deleting, following, reasons, failing, business, model, whether, streaming, services, like, consumer, want, pay, fully, ads, successively, upon, logging, single, much, closed, ad, number, patient, ways, profit, already, peaked, left, decline]   \n",
       "\n",
       "                                                                                                                                                                                                                                Lemmatized_Tokens  \\\n",
       "0                                                                                                                                                               [great, service, audio, high, quality, easy, use, also, quick, friendly, support]   \n",
       "1                                                                                                                                                                       [please, ignore, previous, negative, rat, super, great, give, five, star]   \n",
       "2                                                                                                                                                                                       [pop, best, experience, android, annoy, please, let, rid]   \n",
       "3                                                                                                                                                                                                        [really, buggy, terrible, use, recently]   \n",
       "4                                                                                                                                                                                                                            [dear, put, shuffle]   \n",
       "5                                                                                                                                                                    [player, control, sometimes, disappear, reason, restart, forget, fix, issue]   \n",
       "6                                                                                                                                                                                                       [love, selection, lyric, provide, listen]   \n",
       "7  [still, extremely, slow, change, storage, external, sd, card, convince, do, purpose, know, issue, do, nothing, solve, time, change, sd, card, faster, read, write, speed, samsung, brand, please, add, like, never, appear, search, playlists]   \n",
       "8                                                                                                                                                           [great, best, mp, ever, use, one, problem, find, despite, wonderful, recommend, best]   \n",
       "9                [delete, follow, reason, fail, business, model, whether, stream, service, like, consumer, want, pay, fully, ads, successively, upon, log, single, much, close, ad, number, patient, ways, profit, already, peak, leave, decline]   \n",
       "\n",
       "                                                                                                                                                                                                   TFIDF_Tokens  \n",
       "0                                                                                                                                         great service audio high quality easy use also quick friendly support  \n",
       "1                                                                                                                                                please ignore previous negative rat super great give five star  \n",
       "2                                                                                                                                                              pop best experience android annoy please let rid  \n",
       "3                                                                                                                                                                            really buggy terrible use recently  \n",
       "4                                                                                                                                                                                              dear put shuffle  \n",
       "5                                                                                                                                            player control sometimes disappear reason restart forget fix issue  \n",
       "6                                                                                                                                                                           love selection lyric provide listen  \n",
       "7  still extremely slow change storage external sd card convince do purpose know issue do nothing solve time change sd card faster read write speed samsung brand please add like never appear search playlists  \n",
       "8                                                                                                                                      great best mp ever use one problem find despite wonderful recommend best  \n",
       "9             delete follow reason fail business model whether stream service like consumer want pay fully ads successively upon log single much close ad number patient ways profit already peak leave decline  "
      ]
     },
     "execution_count": 25,
     "metadata": {},
     "output_type": "execute_result"
    }
   ],
   "source": [
    "from sklearn.feature_extraction.text import TfidfVectorizer\n",
    "\n",
    "#performing TF-IDF vectorization\n",
    "def apply_tfidf(df):\n",
    "    df['TFIDF_Tokens'] = df['Lemmatized_Tokens'].apply(lambda x: ' '.join(x))\n",
    "    tfidf_vectorizer = TfidfVectorizer(stop_words='english', max_features=10000)\n",
    "    tfidf_matrix = tfidf_vectorizer.fit_transform(df['TFIDF_Tokens'])\n",
    "    feature_names = tfidf_vectorizer.get_feature_names_out()\n",
    "    return tfidf_matrix, feature_names\n",
    "\n",
    "# Applying TF-IDF on our Dataframe\n",
    "tfidf_matrix, feature_names = apply_tfidf(df)\n",
    "df.head(10)"
   ]
  },
  {
   "cell_type": "markdown",
   "id": "812ba7fe",
   "metadata": {
    "papermill": {
     "duration": 0.017347,
     "end_time": "2024-10-14T14:37:16.904365",
     "exception": false,
     "start_time": "2024-10-14T14:37:16.887018",
     "status": "completed"
    },
    "tags": []
   },
   "source": [
    "# SPILLITING DATASET"
   ]
  },
  {
   "cell_type": "code",
   "execution_count": 26,
   "id": "9624e9ed",
   "metadata": {
    "execution": {
     "iopub.execute_input": "2024-10-14T14:37:16.941561Z",
     "iopub.status.busy": "2024-10-14T14:37:16.941102Z",
     "iopub.status.idle": "2024-10-14T14:37:16.959765Z",
     "shell.execute_reply": "2024-10-14T14:37:16.958474Z"
    },
    "papermill": {
     "duration": 0.040485,
     "end_time": "2024-10-14T14:37:16.962516",
     "exception": false,
     "start_time": "2024-10-14T14:37:16.922031",
     "status": "completed"
    },
    "tags": []
   },
   "outputs": [],
   "source": [
    "from sklearn.model_selection import train_test_split\n",
    "X = tfidf_matrix  # Features from TF-IDF\n",
    "y = df['label']   # Target labels\n",
    "\n",
    "# Splitting the dataset into training and testing sets (80% training, 20% testing)\n",
    "X_train, X_test, y_train, y_test = train_test_split(X, y, test_size=0.2, random_state=42)"
   ]
  },
  {
   "cell_type": "markdown",
   "id": "6956d5e9",
   "metadata": {
    "papermill": {
     "duration": 0.017508,
     "end_time": "2024-10-14T14:37:16.997809",
     "exception": false,
     "start_time": "2024-10-14T14:37:16.980301",
     "status": "completed"
    },
    "tags": []
   },
   "source": [
    "# MODEL TRAINING AND TESTING"
   ]
  },
  {
   "cell_type": "code",
   "execution_count": 27,
   "id": "db4be56c",
   "metadata": {
    "execution": {
     "iopub.execute_input": "2024-10-14T14:37:17.035374Z",
     "iopub.status.busy": "2024-10-14T14:37:17.034933Z",
     "iopub.status.idle": "2024-10-14T14:37:17.040575Z",
     "shell.execute_reply": "2024-10-14T14:37:17.039278Z"
    },
    "papermill": {
     "duration": 0.027617,
     "end_time": "2024-10-14T14:37:17.043328",
     "exception": false,
     "start_time": "2024-10-14T14:37:17.015711",
     "status": "completed"
    },
    "tags": []
   },
   "outputs": [],
   "source": [
    "#SOME COMMON LIBRARIES\n",
    "from sklearn.metrics import accuracy_score"
   ]
  },
  {
   "cell_type": "code",
   "execution_count": 28,
   "id": "6ee6c3e2",
   "metadata": {
    "execution": {
     "iopub.execute_input": "2024-10-14T14:37:17.082545Z",
     "iopub.status.busy": "2024-10-14T14:37:17.082094Z",
     "iopub.status.idle": "2024-10-14T14:37:17.835946Z",
     "shell.execute_reply": "2024-10-14T14:37:17.834784Z"
    },
    "papermill": {
     "duration": 0.775988,
     "end_time": "2024-10-14T14:37:17.838835",
     "exception": false,
     "start_time": "2024-10-14T14:37:17.062847",
     "status": "completed"
    },
    "tags": []
   },
   "outputs": [
    {
     "name": "stdout",
     "output_type": "stream",
     "text": [
      "Logistic Regression Accuracy: 0.8783\n"
     ]
    }
   ],
   "source": [
    "#USING LOGISTIC REGRESSION\n",
    "from sklearn.linear_model import LogisticRegression\n",
    "\n",
    "model=LogisticRegression()\n",
    "model.fit(X_train, y_train)\n",
    "y_pred = model.predict(X_test)\n",
    "accuracy = accuracy_score(y_test, y_pred)\n",
    "print(f\"Logistic Regression Accuracy: {accuracy:.4f}\")"
   ]
  },
  {
   "cell_type": "code",
   "execution_count": 29,
   "id": "0656b66c",
   "metadata": {
    "execution": {
     "iopub.execute_input": "2024-10-14T14:37:17.890544Z",
     "iopub.status.busy": "2024-10-14T14:37:17.890011Z",
     "iopub.status.idle": "2024-10-14T14:42:05.641037Z",
     "shell.execute_reply": "2024-10-14T14:42:05.639750Z"
    },
    "papermill": {
     "duration": 287.797588,
     "end_time": "2024-10-14T14:42:05.661409",
     "exception": false,
     "start_time": "2024-10-14T14:37:17.863821",
     "status": "completed"
    },
    "tags": []
   },
   "outputs": [
    {
     "name": "stdout",
     "output_type": "stream",
     "text": [
      "Support Vector Classifier Accuracy: 0.8812\n"
     ]
    }
   ],
   "source": [
    "#USING SUPPORT VECTOR CLASSIFIER\n",
    "from sklearn.svm import SVC\n",
    "\n",
    "model=SVC()\n",
    "model.fit(X_train, y_train)\n",
    "y_pred = model.predict(X_test)\n",
    "accuracy = accuracy_score(y_test, y_pred)\n",
    "print(f\"Support Vector Classifier Accuracy: {accuracy:.4f}\")"
   ]
  },
  {
   "cell_type": "code",
   "execution_count": 30,
   "id": "a6f1830f",
   "metadata": {
    "execution": {
     "iopub.execute_input": "2024-10-14T14:42:05.698922Z",
     "iopub.status.busy": "2024-10-14T14:42:05.698450Z",
     "iopub.status.idle": "2024-10-14T14:43:48.713404Z",
     "shell.execute_reply": "2024-10-14T14:43:48.712046Z"
    },
    "papermill": {
     "duration": 103.053727,
     "end_time": "2024-10-14T14:43:48.732945",
     "exception": false,
     "start_time": "2024-10-14T14:42:05.679218",
     "status": "completed"
    },
    "tags": []
   },
   "outputs": [
    {
     "name": "stdout",
     "output_type": "stream",
     "text": [
      "Random Forest Classifier Accuracy: 0.8621\n"
     ]
    }
   ],
   "source": [
    "#USING RANDOM FOREST CLASSIFIER\n",
    "from sklearn.ensemble import RandomForestClassifier\n",
    "\n",
    "model=RandomForestClassifier()\n",
    "model.fit(X_train, y_train)\n",
    "y_pred = model.predict(X_test)\n",
    "accuracy = accuracy_score(y_test, y_pred)\n",
    "print(f\"Random Forest Classifier Accuracy: {accuracy:.4f}\")"
   ]
  },
  {
   "cell_type": "code",
   "execution_count": 31,
   "id": "6c17b6e1",
   "metadata": {
    "execution": {
     "iopub.execute_input": "2024-10-14T14:43:48.771804Z",
     "iopub.status.busy": "2024-10-14T14:43:48.770531Z",
     "iopub.status.idle": "2024-10-14T14:43:49.055781Z",
     "shell.execute_reply": "2024-10-14T14:43:49.054451Z"
    },
    "papermill": {
     "duration": 0.307573,
     "end_time": "2024-10-14T14:43:49.058502",
     "exception": false,
     "start_time": "2024-10-14T14:43:48.750929",
     "status": "completed"
    },
    "tags": []
   },
   "outputs": [
    {
     "name": "stdout",
     "output_type": "stream",
     "text": [
      "Multinomial Naive Bayes Accuracy: 0.8569\n"
     ]
    }
   ],
   "source": [
    "# USING MULTINOMIAL NAIVE BAYES MODEL\n",
    "from sklearn.naive_bayes import MultinomialNB\n",
    "\n",
    "model = MultinomialNB(alpha=0.5)\n",
    "model.fit(X_train, y_train)\n",
    "y_pred = model.predict(X_test)\n",
    "accuracy = accuracy_score(y_test, y_pred)\n",
    "print(f\"Multinomial Naive Bayes Accuracy: {accuracy:.4f}\")"
   ]
  },
  {
   "cell_type": "markdown",
   "id": "f1191114",
   "metadata": {
    "papermill": {
     "duration": 0.017878,
     "end_time": "2024-10-14T14:43:49.094703",
     "exception": false,
     "start_time": "2024-10-14T14:43:49.076825",
     "status": "completed"
    },
    "tags": []
   },
   "source": [
    "# RESULT & CONCLUSION\n",
    "\n",
    "After thorough training and testing of multiple models; I have achieved the following result (or accuracies):\n",
    "\n",
    "1. Logistic Regression: 87.83%\n",
    "2. Random Forest Classifier: 86.28%\n",
    "3. Multinomial Naive Bayes: 85.69%\n",
    "4. Support Vector Classifier: 88.12% \n",
    "\n",
    "\n",
    "Clearly the Support Vector Classifier ML model provides the most accuracy.\n"
   ]
  },
  {
   "cell_type": "code",
   "execution_count": null,
   "id": "7397a1ff",
   "metadata": {
    "papermill": {
     "duration": 0.018303,
     "end_time": "2024-10-14T14:43:49.131136",
     "exception": false,
     "start_time": "2024-10-14T14:43:49.112833",
     "status": "completed"
    },
    "tags": []
   },
   "outputs": [],
   "source": []
  }
 ],
 "metadata": {
  "kaggle": {
   "accelerator": "none",
   "dataSources": [
    {
     "datasetId": 5782610,
     "sourceId": 9538515,
     "sourceType": "datasetVersion"
    }
   ],
   "dockerImageVersionId": 30786,
   "isGpuEnabled": false,
   "isInternetEnabled": false,
   "language": "python",
   "sourceType": "notebook"
  },
  "kernelspec": {
   "display_name": "Python 3",
   "language": "python",
   "name": "python3"
  },
  "language_info": {
   "codemirror_mode": {
    "name": "ipython",
    "version": 3
   },
   "file_extension": ".py",
   "mimetype": "text/x-python",
   "name": "python",
   "nbconvert_exporter": "python",
   "pygments_lexer": "ipython3",
   "version": "3.10.14"
  },
  "papermill": {
   "default_parameters": {},
   "duration": 440.646289,
   "end_time": "2024-10-14T14:43:50.474521",
   "environment_variables": {},
   "exception": null,
   "input_path": "__notebook__.ipynb",
   "output_path": "__notebook__.ipynb",
   "parameters": {},
   "start_time": "2024-10-14T14:36:29.828232",
   "version": "2.6.0"
  }
 },
 "nbformat": 4,
 "nbformat_minor": 5
}
